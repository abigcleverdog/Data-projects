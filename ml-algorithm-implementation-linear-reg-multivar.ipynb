{
 "cells": [
  {
   "cell_type": "markdown",
   "metadata": {},
   "source": [
    "For univariate: https://www.kaggle.com/abigcleverdog/ml-algorithm-implementation-linear-reg-univariate"
   ]
  },
  {
   "cell_type": "code",
   "execution_count": 1,
   "metadata": {},
   "outputs": [],
   "source": [
    "import numpy as np\n",
    "import pandas as pd\n",
    "import matplotlib.pyplot as plt\n",
    "import seaborn as sns"
   ]
  },
  {
   "cell_type": "code",
   "execution_count": 2,
   "metadata": {},
   "outputs": [],
   "source": [
    "# create a testing data pair\n",
    "x = pd.DataFrame([[1,4],[2,5],[3,6],[3,6]])\n",
    "y = pd.DataFrame([8,9,12,12])"
   ]
  },
  {
   "cell_type": "markdown",
   "metadata": {},
   "source": [
    "#### Gradient Descent approach\n",
    "number of features, n = 2 for the testing data; number of training examples, m = 4\n",
    "- hyphothesis $h_\\theta$: $h_\\theta = \\theta_0 \\cdot x[0] + \\theta_1 \\cdot x[1] + \\theta_2 \\cdot x[2] $ &nbsp; &nbsp; &nbsp; &nbsp; &nbsp;      *x[0] = 1 is a constant term that added to each train data*\n",
    "- cost function $J(\\theta_0, \\theta_1, \\theta_2)$: $J(\\theta_0, \\theta_1, \\theta_2) = \\frac{1}{2m} \\sum_{i=1}^{m} (h_\\theta(x^i) - y^i)^2$  &nbsp; &nbsp;     *it is similar to the average of SSE (Sum of Squared Error) $SSE = \\sum_{i=1}^{m}(y_i - \\bar{y})^2$* **the difference is $h_\\theta(x_i)$ replaced $\\bar{y}$**, thus minimize cost function is the same as minimize the error, leading to the best fit\n",
    "- gradient descent: $\\theta_j = \\theta_j - \\alpha\\cdot\\frac{\\partial}{\\partial \\theta_j}J(\\theta_0, \\theta_1, \\theta_2)$\n",
    "    - $\\theta_j$ is the $j^{th}$ parameter/feature\n",
    "    - $\\alpha$ is the learning rate\n",
    "    - $\\frac{\\partial}{\\partial \\theta_j}J(\\theta_0, \\theta_1, \\theta_2)$ is the partial derivative of the cost function (error) over the $j^{th}$ parameter, this term will become zero when all parameters are optimized.\n",
    "    - each iteration we adjust $\\theta_j$ according to the derivative by the scale of the learning rate $\\alpha$\n",
    "        - when $\\alpha$ is too small, it can takes long time for the cost function value to decrease to minimal\n",
    "        - when $\\alpha$ is too big, the cost function value can pass the local minimal and swag around and fail to converge\n",
    "- gradient descent after taking derivative: $\\theta_j = \\theta_j - \\frac{\\alpha}{m} \\sum_{i=1}^{m} [(h_\\theta (x^i) - y^i) x_j^i]$\n",
    "- gradient descent break down to each parameter: \\begin{align}\n",
    " \\theta_0 & = \\theta_0 - \\alpha \\frac{1}{k} \\sum_{i=1}^{k} (h_\\theta(x^{i}) - y^{i}) \\\\  \n",
    "\\theta_1 & = \\theta_1 - \\alpha \\frac{1}{k} \\sum_{i=1}^{k} ((h_\\theta(x^{i}) - y^{i}) \\cdot x_1^{i}) \\\\\n",
    "\\theta_2 & = \\theta_2 - \\alpha \\frac{1}{k} \\sum_{i=1}^{k} ((h_\\theta(x^{i}) - y^{i}) \\cdot x_2^{i}) \\\\\n",
    "\\end{align}\n"
   ]
  },
  {
   "cell_type": "code",
   "execution_count": 3,
   "metadata": {},
   "outputs": [],
   "source": [
    "# iterative implementation. This is more intuitive as we are simply mapping the gradient descent step by step\n",
    "\n",
    "def cal_sum(h, x, y):\n",
    "    sum0 = sum1 = sum2 = 0\n",
    "    for i in range(len(y)):\n",
    "        sum0 += (h(x.iloc[i,:]) - y[i])\n",
    "        sum1 += (h(x.iloc[i,:]) - y[i]) * x.iloc[i,0]\n",
    "        sum2 += (h(x.iloc[i,:]) - y[i]) * x.iloc[i,1]\n",
    "    return sum0, sum1, sum2\n",
    "\n",
    "def cal_cost(h, x, y):\n",
    "    j = 0\n",
    "    for i in range(len(x)):\n",
    "        j += (h(x.iloc[i,:]) - y[i]) ** 2\n",
    "    return j / (2 * len(y))\n",
    "\n",
    "def lrdg_iterative(theta, x, y, lr, epochs):\n",
    "    theta_0, theta_1, theta_2 = theta\n",
    "    h = lambda x: theta_0 + theta_1 * x[0] + theta_2 * x[1] # hypothesis\n",
    "    paras, costs = [], []\n",
    "    for i in range(epochs):\n",
    "        sum0, sum1, sum2 = cal_sum(h, x, y[0])\n",
    "        theta_0 -= lr / len(y) * sum0\n",
    "        theta_1 -= lr / len(y) * sum1\n",
    "        theta_2 -= lr / len(y) * sum2\n",
    "        paras.append((theta_0, theta_1, theta_2))\n",
    "        costs.append(cal_cost(h, x, y[0]))\n",
    "    return paras, costs"
   ]
  },
  {
   "cell_type": "code",
   "execution_count": 4,
   "metadata": {},
   "outputs": [
    {
     "data": {
      "image/png": "[encoded data removed]",
      "text/plain": [
       "<Figure size 432x288 with 1 Axes>"
      ]
     },
     "metadata": {
      "needs_background": "light"
     },
     "output_type": "display_data"
    }
   ],
   "source": [
    "theta = [0,0,0]\n",
    "lr = 0.01 # learning rate\n",
    "epochs = 20\n",
    "it_paras, it_costs = lrdg_iterative(theta, x, y, lr, epochs)\n",
    "plt.plot(it_costs, 'go-', label='cost')\n",
    "plt.legend()\n",
    "plt.ylabel('Costs')\n",
    "plt.xlabel('Iterations')\n",
    "plt.title('Cost Function');"
   ]
  },
  {
   "cell_type": "code",
   "execution_count": 5,
   "metadata": {},
   "outputs": [
    {
     "data": {
      "image/png": "[encoded data removed]",
      "text/plain": [
       "<Figure size 432x288 with 1 Axes>"
      ]
     },
     "metadata": {
      "needs_background": "light"
     },
     "output_type": "display_data"
    }
   ],
   "source": [
    "theta = [0,0,0]\n",
    "lr = 0.15 # learning rate too big, and cost function will not converge\n",
    "epochs = 20\n",
    "bi_paras, bi_costs = lrdg_iterative(theta, x, y, lr, epochs)\n",
    "plt.plot(bi_costs, 'go-', label='cost')\n",
    "plt.legend()\n",
    "plt.ylabel('Costs')\n",
    "plt.xlabel('Iterations')\n",
    "plt.title('Cost Function');"
   ]
  },
  {
   "cell_type": "code",
   "execution_count": 6,
   "metadata": {},
   "outputs": [
    {
     "name": "stdout",
     "output_type": "stream",
     "text": [
      "104 ms ± 7.75 ms per loop (mean ± std. dev. of 7 runs, 10 loops each)\n"
     ]
    }
   ],
   "source": [
    "%timeit _, _ = lrdg_iterative(theta, x, y, lr, epochs)"
   ]
  },
  {
   "cell_type": "code",
   "execution_count": 7,
   "metadata": {},
   "outputs": [],
   "source": [
    "# implementation with linear algebra\n",
    "# for quick review of linear algebra relavent to this part: https://www.holehouse.org/mlclass/03_Linear_algebra_review.html; https://www.youtube.com/watch?v=Dft1cqjwlXE&list=PLLssT5z_DsK-h9vYZkQkYNWcItqhlRJLN&index=13&t=0s \n",
    "def gradientDescent(X, y, theta, alpha, num_iters):\n",
    "    \"\"\"\n",
    "       Performs gradient descent to learn theta\n",
    "    \"\"\"\n",
    "    m = y[0].size  # number of training examples\n",
    "    paras, costs = [], []\n",
    "    for i in range(num_iters):\n",
    "        y_hat = np.dot(X, theta)\n",
    "        theta = theta - alpha * (1.0/m) * np.dot(X.T, y_hat-y)\n",
    "        paras.append(theta)\n",
    "        costs.append(cal_cost(lambda x: theta[0] + theta[1]*x[0] + theta[2]*x[1], x, y[0]))\n",
    "    return theta, paras, costs"
   ]
  },
  {
   "cell_type": "code",
   "execution_count": 8,
   "metadata": {},
   "outputs": [
    {
     "data": {
      "image/png": "[encoded data removed]",
      "text/plain": [
       "<Figure size 432x288 with 1 Axes>"
      ]
     },
     "metadata": {
      "needs_background": "light"
     },
     "output_type": "display_data"
    }
   ],
   "source": [
    "X = pd.concat([pd.DataFrame(np.ones((len(y),1))),x], axis = 1) # adding constant term to each train data\n",
    "theta = np.zeros((3,1))\n",
    "epochs = 20 # run 20 single step gd to get cost functions and parameters to compare with the non-linear-algebra approach\n",
    "lr = 0.01\n",
    "p, la_paras, la_costs = gradientDescent(X, y, theta, lr, epochs)\n",
    "plt.plot(la_costs, 'go-', label='Lin-Alg')\n",
    "plt.plot(it_costs, 'r+', label='Iterative')\n",
    "plt.legend()\n",
    "plt.ylabel('Costs')\n",
    "plt.xlabel('Iterations')\n",
    "plt.title('Cost Function');"
   ]
  },
  {
   "cell_type": "code",
   "execution_count": 9,
   "metadata": {},
   "outputs": [
    {
     "name": "stdout",
     "output_type": "stream",
     "text": [
      "70.7 ms ± 1.21 ms per loop (mean ± std. dev. of 7 runs, 10 loops each)\n"
     ]
    }
   ],
   "source": [
    "%timeit _, _, _ = gradientDescent(X, y, theta, lr, epochs)"
   ]
  },
  {
   "cell_type": "markdown",
   "metadata": {},
   "source": [
    "Implementation with linear algebra yields the same results while taking much less time as `numpy` optimized the calculation under the hood."
   ]
  },
  {
   "cell_type": "markdown",
   "metadata": {},
   "source": [
    "#### Normal Equation approach\n",
    "- hyphothesis $h_\\theta$: $h_\\theta = \\theta_0 \\cdot x[0] + \\theta_1 \\cdot x[1] + \\theta_1 \\cdot x[2]$\n",
    "- parameters $\\theta = (X^T X)^{-1} X^T y$"
   ]
  },
  {
   "cell_type": "code",
   "execution_count": 10,
   "metadata": {},
   "outputs": [],
   "source": [
    "def normalEquation(X, y):\n",
    "    m = len(y)\n",
    "    theta = []\n",
    "    \n",
    "    # Calculating theta\n",
    "    theta = np.linalg.pinv(X.T.dot(X))  ### Please note using np.linalg.inv will sometime yield wrong outcomes\n",
    "    theta = theta.dot(X.T)\n",
    "    theta = theta.dot(y)\n",
    "\n",
    "    return theta"
   ]
  },
  {
   "cell_type": "code",
   "execution_count": 11,
   "metadata": {},
   "outputs": [],
   "source": [
    "ne_para = normalEquation(X,y)\n",
    "ne_cost = cal_cost(lambda x: ne_para[0] + ne_para[1]*x[0] + ne_para[2]*x[1], x, y[0])"
   ]
  },
  {
   "cell_type": "code",
   "execution_count": 12,
   "metadata": {},
   "outputs": [
    {
     "name": "stdout",
     "output_type": "stream",
     "text": [
      "1.23 ms ± 25.2 µs per loop (mean ± std. dev. of 7 runs, 1000 loops each)\n"
     ]
    }
   ],
   "source": [
    "%timeit _ = normalEquation(X,y)"
   ]
  },
  {
   "cell_type": "code",
   "execution_count": 13,
   "metadata": {},
   "outputs": [
    {
     "data": {
      "text/html": [
       "<div>\n",
       "<style scoped>\n",
       "    .dataframe tbody tr th:only-of-type {\n",
       "        vertical-align: middle;\n",
       "    }\n",
       "\n",
       "    .dataframe tbody tr th {\n",
       "        vertical-align: top;\n",
       "    }\n",
       "\n",
       "    .dataframe thead th {\n",
       "        text-align: right;\n",
       "    }\n",
       "</style>\n",
       "<table border=\"1\" class=\"dataframe\">\n",
       "  <thead>\n",
       "    <tr style=\"text-align: right;\">\n",
       "      <th></th>\n",
       "      <th>Cost</th>\n",
       "      <th>theta_0</th>\n",
       "      <th>theta_1</th>\n",
       "      <th>theta_2</th>\n",
       "      <th>timeit (ms)</th>\n",
       "    </tr>\n",
       "  </thead>\n",
       "  <tbody>\n",
       "    <tr>\n",
       "      <th>Normal Equation</th>\n",
       "      <td>0.090909</td>\n",
       "      <td>0.438017</td>\n",
       "      <td>0.388430</td>\n",
       "      <td>1.702479</td>\n",
       "      <td>1.22</td>\n",
       "    </tr>\n",
       "    <tr>\n",
       "      <th>Iterative 20 It</th>\n",
       "      <td>0.104369</td>\n",
       "      <td>0.299873</td>\n",
       "      <td>0.692683</td>\n",
       "      <td>1.592302</td>\n",
       "      <td>95.40</td>\n",
       "    </tr>\n",
       "    <tr>\n",
       "      <th>Linear Algebra 20 It</th>\n",
       "      <td>0.104369</td>\n",
       "      <td>0.299873</td>\n",
       "      <td>0.692683</td>\n",
       "      <td>1.592302</td>\n",
       "      <td>67.70</td>\n",
       "    </tr>\n",
       "  </tbody>\n",
       "</table>\n",
       "</div>"
      ],
      "text/plain": [
       "                          Cost   theta_0   theta_1   theta_2  timeit (ms)\n",
       "Normal Equation       0.090909  0.438017  0.388430  1.702479         1.22\n",
       "Iterative 20 It       0.104369  0.299873  0.692683  1.592302        95.40\n",
       "Linear Algebra 20 It  0.104369  0.299873  0.692683  1.592302        67.70"
      ]
     },
     "execution_count": 13,
     "metadata": {},
     "output_type": "execute_result"
    }
   ],
   "source": [
    "compare_df = pd.DataFrame([np.append(ne_cost, ne_para), \n",
    "                           np.append(it_costs[-1], it_paras[-1]), \n",
    "                           np.append(la_costs[-1], la_paras[-1])],\n",
    "                         index = ['Normal Equation', 'Iterative 20 It', 'Linear Algebra 20 It'],\n",
    "                         columns = ['Cost', 'theta_0', 'theta_1', 'theta_2'])\n",
    "compare_df['timeit (ms)'] = pd.Series([1.22, 95.4, 67.7], index = compare_df.index)\n",
    "compare_df"
   ]
  },
  {
   "cell_type": "markdown",
   "metadata": {},
   "source": [
    "Apparently, the Normal Equation approach is outperforming the Gradient Descent approach in this small data set. As suggested by Andrew Ng, we should start considering Gradient Descent over the Normal Equation when training example > 10000 and calculation of inverse of the large matrix can be expensive.\n",
    "\n",
    "\n",
    "\n",
    "Now let's see the functions working on some real data:"
   ]
  },
  {
   "cell_type": "code",
   "execution_count": 14,
   "metadata": {
    "_cell_guid": "b1076dfc-b9ad-4769-8c92-a6c4dae69d19",
    "_uuid": "8f2839f25d086af736a60e9eeb907d3b93b6e0e5"
   },
   "outputs": [
    {
     "name": "stdout",
     "output_type": "stream",
     "text": [
      "/kaggle/input/suicide-rates-overview-1985-to-2016/master.csv\n"
     ]
    }
   ],
   "source": [
    "import os\n",
    "for dirname, _, filenames in os.walk('/kaggle/input'):\n",
    "    for filename in filenames:\n",
    "        print(os.path.join(dirname, filename))"
   ]
  },
  {
   "cell_type": "code",
   "execution_count": 15,
   "metadata": {
    "_cell_guid": "79c7e3d0-c299-4dcb-8224-4455121ee9b0",
    "_uuid": "d629ff2d2480ee46fbb7e2d37f6b5fab8052498a"
   },
   "outputs": [
    {
     "data": {
      "text/html": [
       "<div>\n",
       "<style scoped>\n",
       "    .dataframe tbody tr th:only-of-type {\n",
       "        vertical-align: middle;\n",
       "    }\n",
       "\n",
       "    .dataframe tbody tr th {\n",
       "        vertical-align: top;\n",
       "    }\n",
       "\n",
       "    .dataframe thead th {\n",
       "        text-align: right;\n",
       "    }\n",
       "</style>\n",
       "<table border=\"1\" class=\"dataframe\">\n",
       "  <thead>\n",
       "    <tr style=\"text-align: right;\">\n",
       "      <th></th>\n",
       "      <th>country</th>\n",
       "      <th>year</th>\n",
       "      <th>sex</th>\n",
       "      <th>age</th>\n",
       "      <th>suicides_no</th>\n",
       "      <th>population</th>\n",
       "      <th>suicides/100k pop</th>\n",
       "      <th>country-year</th>\n",
       "      <th>HDI for year</th>\n",
       "      <th>gdp_for_year ($)</th>\n",
       "      <th>gdp_per_capita ($)</th>\n",
       "      <th>generation</th>\n",
       "    </tr>\n",
       "  </thead>\n",
       "  <tbody>\n",
       "    <tr>\n",
       "      <th>0</th>\n",
       "      <td>Albania</td>\n",
       "      <td>1987</td>\n",
       "      <td>male</td>\n",
       "      <td>15-24 years</td>\n",
       "      <td>21</td>\n",
       "      <td>312900</td>\n",
       "      <td>6.71</td>\n",
       "      <td>Albania1987</td>\n",
       "      <td>NaN</td>\n",
       "      <td>2,156,624,900</td>\n",
       "      <td>796</td>\n",
       "      <td>Generation X</td>\n",
       "    </tr>\n",
       "    <tr>\n",
       "      <th>1</th>\n",
       "      <td>Albania</td>\n",
       "      <td>1987</td>\n",
       "      <td>male</td>\n",
       "      <td>35-54 years</td>\n",
       "      <td>16</td>\n",
       "      <td>308000</td>\n",
       "      <td>5.19</td>\n",
       "      <td>Albania1987</td>\n",
       "      <td>NaN</td>\n",
       "      <td>2,156,624,900</td>\n",
       "      <td>796</td>\n",
       "      <td>Silent</td>\n",
       "    </tr>\n",
       "    <tr>\n",
       "      <th>2</th>\n",
       "      <td>Albania</td>\n",
       "      <td>1987</td>\n",
       "      <td>female</td>\n",
       "      <td>15-24 years</td>\n",
       "      <td>14</td>\n",
       "      <td>289700</td>\n",
       "      <td>4.83</td>\n",
       "      <td>Albania1987</td>\n",
       "      <td>NaN</td>\n",
       "      <td>2,156,624,900</td>\n",
       "      <td>796</td>\n",
       "      <td>Generation X</td>\n",
       "    </tr>\n",
       "    <tr>\n",
       "      <th>3</th>\n",
       "      <td>Albania</td>\n",
       "      <td>1987</td>\n",
       "      <td>male</td>\n",
       "      <td>75+ years</td>\n",
       "      <td>1</td>\n",
       "      <td>21800</td>\n",
       "      <td>4.59</td>\n",
       "      <td>Albania1987</td>\n",
       "      <td>NaN</td>\n",
       "      <td>2,156,624,900</td>\n",
       "      <td>796</td>\n",
       "      <td>G.I. Generation</td>\n",
       "    </tr>\n",
       "    <tr>\n",
       "      <th>4</th>\n",
       "      <td>Albania</td>\n",
       "      <td>1987</td>\n",
       "      <td>male</td>\n",
       "      <td>25-34 years</td>\n",
       "      <td>9</td>\n",
       "      <td>274300</td>\n",
       "      <td>3.28</td>\n",
       "      <td>Albania1987</td>\n",
       "      <td>NaN</td>\n",
       "      <td>2,156,624,900</td>\n",
       "      <td>796</td>\n",
       "      <td>Boomers</td>\n",
       "    </tr>\n",
       "  </tbody>\n",
       "</table>\n",
       "</div>"
      ],
      "text/plain": [
       "   country  year     sex          age  suicides_no  population  \\\n",
       "0  Albania  1987    male  15-24 years           21      312900   \n",
       "1  Albania  1987    male  35-54 years           16      308000   \n",
       "2  Albania  1987  female  15-24 years           14      289700   \n",
       "3  Albania  1987    male    75+ years            1       21800   \n",
       "4  Albania  1987    male  25-34 years            9      274300   \n",
       "\n",
       "   suicides/100k pop country-year  HDI for year  gdp_for_year ($)   \\\n",
       "0               6.71  Albania1987           NaN      2,156,624,900   \n",
       "1               5.19  Albania1987           NaN      2,156,624,900   \n",
       "2               4.83  Albania1987           NaN      2,156,624,900   \n",
       "3               4.59  Albania1987           NaN      2,156,624,900   \n",
       "4               3.28  Albania1987           NaN      2,156,624,900   \n",
       "\n",
       "   gdp_per_capita ($)       generation  \n",
       "0                 796     Generation X  \n",
       "1                 796           Silent  \n",
       "2                 796     Generation X  \n",
       "3                 796  G.I. Generation  \n",
       "4                 796          Boomers  "
      ]
     },
     "execution_count": 15,
     "metadata": {},
     "output_type": "execute_result"
    }
   ],
   "source": [
    "df = pd.read_csv('../input/suicide-rates-overview-1985-to-2016/master.csv')\n",
    "df.head()"
   ]
  },
  {
   "cell_type": "code",
   "execution_count": 16,
   "metadata": {},
   "outputs": [
    {
     "data": {
      "text/html": [
       "<div>\n",
       "<style scoped>\n",
       "    .dataframe tbody tr th:only-of-type {\n",
       "        vertical-align: middle;\n",
       "    }\n",
       "\n",
       "    .dataframe tbody tr th {\n",
       "        vertical-align: top;\n",
       "    }\n",
       "\n",
       "    .dataframe thead th {\n",
       "        text-align: right;\n",
       "    }\n",
       "</style>\n",
       "<table border=\"1\" class=\"dataframe\">\n",
       "  <thead>\n",
       "    <tr style=\"text-align: right;\">\n",
       "      <th></th>\n",
       "      <th>country</th>\n",
       "      <th>year</th>\n",
       "      <th>sex</th>\n",
       "      <th>age</th>\n",
       "      <th>suicides_no</th>\n",
       "      <th>population</th>\n",
       "      <th>suicides_per_100k_pop</th>\n",
       "      <th>country-year</th>\n",
       "      <th>HDI for year</th>\n",
       "      <th>gdp_for_year</th>\n",
       "      <th>gdp_per_capita</th>\n",
       "      <th>generation</th>\n",
       "    </tr>\n",
       "  </thead>\n",
       "  <tbody>\n",
       "    <tr>\n",
       "      <th>0</th>\n",
       "      <td>Albania</td>\n",
       "      <td>1987</td>\n",
       "      <td>male</td>\n",
       "      <td>15-24 years</td>\n",
       "      <td>21</td>\n",
       "      <td>312900</td>\n",
       "      <td>6.71</td>\n",
       "      <td>Albania1987</td>\n",
       "      <td>NaN</td>\n",
       "      <td>2,156,624,900</td>\n",
       "      <td>796</td>\n",
       "      <td>Generation X</td>\n",
       "    </tr>\n",
       "    <tr>\n",
       "      <th>1</th>\n",
       "      <td>Albania</td>\n",
       "      <td>1987</td>\n",
       "      <td>male</td>\n",
       "      <td>35-54 years</td>\n",
       "      <td>16</td>\n",
       "      <td>308000</td>\n",
       "      <td>5.19</td>\n",
       "      <td>Albania1987</td>\n",
       "      <td>NaN</td>\n",
       "      <td>2,156,624,900</td>\n",
       "      <td>796</td>\n",
       "      <td>Silent</td>\n",
       "    </tr>\n",
       "    <tr>\n",
       "      <th>2</th>\n",
       "      <td>Albania</td>\n",
       "      <td>1987</td>\n",
       "      <td>female</td>\n",
       "      <td>15-24 years</td>\n",
       "      <td>14</td>\n",
       "      <td>289700</td>\n",
       "      <td>4.83</td>\n",
       "      <td>Albania1987</td>\n",
       "      <td>NaN</td>\n",
       "      <td>2,156,624,900</td>\n",
       "      <td>796</td>\n",
       "      <td>Generation X</td>\n",
       "    </tr>\n",
       "    <tr>\n",
       "      <th>3</th>\n",
       "      <td>Albania</td>\n",
       "      <td>1987</td>\n",
       "      <td>male</td>\n",
       "      <td>75+ years</td>\n",
       "      <td>1</td>\n",
       "      <td>21800</td>\n",
       "      <td>4.59</td>\n",
       "      <td>Albania1987</td>\n",
       "      <td>NaN</td>\n",
       "      <td>2,156,624,900</td>\n",
       "      <td>796</td>\n",
       "      <td>G.I. Generation</td>\n",
       "    </tr>\n",
       "    <tr>\n",
       "      <th>4</th>\n",
       "      <td>Albania</td>\n",
       "      <td>1987</td>\n",
       "      <td>male</td>\n",
       "      <td>25-34 years</td>\n",
       "      <td>9</td>\n",
       "      <td>274300</td>\n",
       "      <td>3.28</td>\n",
       "      <td>Albania1987</td>\n",
       "      <td>NaN</td>\n",
       "      <td>2,156,624,900</td>\n",
       "      <td>796</td>\n",
       "      <td>Boomers</td>\n",
       "    </tr>\n",
       "  </tbody>\n",
       "</table>\n",
       "</div>"
      ],
      "text/plain": [
       "   country  year     sex          age  suicides_no  population  \\\n",
       "0  Albania  1987    male  15-24 years           21      312900   \n",
       "1  Albania  1987    male  35-54 years           16      308000   \n",
       "2  Albania  1987  female  15-24 years           14      289700   \n",
       "3  Albania  1987    male    75+ years            1       21800   \n",
       "4  Albania  1987    male  25-34 years            9      274300   \n",
       "\n",
       "   suicides_per_100k_pop country-year  HDI for year   gdp_for_year  \\\n",
       "0                   6.71  Albania1987           NaN  2,156,624,900   \n",
       "1                   5.19  Albania1987           NaN  2,156,624,900   \n",
       "2                   4.83  Albania1987           NaN  2,156,624,900   \n",
       "3                   4.59  Albania1987           NaN  2,156,624,900   \n",
       "4                   3.28  Albania1987           NaN  2,156,624,900   \n",
       "\n",
       "   gdp_per_capita       generation  \n",
       "0             796     Generation X  \n",
       "1             796           Silent  \n",
       "2             796     Generation X  \n",
       "3             796  G.I. Generation  \n",
       "4             796          Boomers  "
      ]
     },
     "execution_count": 16,
     "metadata": {},
     "output_type": "execute_result"
    }
   ],
   "source": [
    "df.rename(columns={'suicides/100k pop': 'suicides_per_100k_pop',\n",
    "                  ' gdp_for_year ($) ': 'gdp_for_year',\n",
    "                  'gdp_per_capita ($)': 'gdp_per_capita'}, inplace=True)\n",
    "df.head()"
   ]
  },
  {
   "cell_type": "code",
   "execution_count": 17,
   "metadata": {},
   "outputs": [
    {
     "data": {
      "text/html": [
       "<div>\n",
       "<style scoped>\n",
       "    .dataframe tbody tr th:only-of-type {\n",
       "        vertical-align: middle;\n",
       "    }\n",
       "\n",
       "    .dataframe tbody tr th {\n",
       "        vertical-align: top;\n",
       "    }\n",
       "\n",
       "    .dataframe thead th {\n",
       "        text-align: right;\n",
       "    }\n",
       "</style>\n",
       "<table border=\"1\" class=\"dataframe\">\n",
       "  <thead>\n",
       "    <tr style=\"text-align: right;\">\n",
       "      <th></th>\n",
       "      <th>country</th>\n",
       "      <th>suicides_per_100k_pop</th>\n",
       "      <th>gdp_per_capita</th>\n",
       "      <th>population</th>\n",
       "    </tr>\n",
       "  </thead>\n",
       "  <tbody>\n",
       "    <tr>\n",
       "      <th>0</th>\n",
       "      <td>Albania</td>\n",
       "      <td>3.502879</td>\n",
       "      <td>1859.045455</td>\n",
       "      <td>2.360813e+05</td>\n",
       "    </tr>\n",
       "    <tr>\n",
       "      <th>1</th>\n",
       "      <td>Antigua and Barbuda</td>\n",
       "      <td>0.552901</td>\n",
       "      <td>10448.185185</td>\n",
       "      <td>6.142679e+03</td>\n",
       "    </tr>\n",
       "    <tr>\n",
       "      <th>2</th>\n",
       "      <td>Argentina</td>\n",
       "      <td>10.469328</td>\n",
       "      <td>7914.096774</td>\n",
       "      <td>2.784907e+06</td>\n",
       "    </tr>\n",
       "    <tr>\n",
       "      <th>3</th>\n",
       "      <td>Armenia</td>\n",
       "      <td>3.275872</td>\n",
       "      <td>1873.919463</td>\n",
       "      <td>2.595576e+05</td>\n",
       "    </tr>\n",
       "    <tr>\n",
       "      <th>4</th>\n",
       "      <td>Aruba</td>\n",
       "      <td>9.503095</td>\n",
       "      <td>24221.642857</td>\n",
       "      <td>7.498077e+03</td>\n",
       "    </tr>\n",
       "    <tr>\n",
       "      <th>...</th>\n",
       "      <td>...</td>\n",
       "      <td>...</td>\n",
       "      <td>...</td>\n",
       "      <td>...</td>\n",
       "    </tr>\n",
       "    <tr>\n",
       "      <th>96</th>\n",
       "      <td>United Arab Emirates</td>\n",
       "      <td>1.317917</td>\n",
       "      <td>42162.000000</td>\n",
       "      <td>5.069760e+05</td>\n",
       "    </tr>\n",
       "    <tr>\n",
       "      <th>97</th>\n",
       "      <td>United Kingdom</td>\n",
       "      <td>7.502473</td>\n",
       "      <td>31908.354839</td>\n",
       "      <td>4.674107e+06</td>\n",
       "    </tr>\n",
       "    <tr>\n",
       "      <th>98</th>\n",
       "      <td>United States</td>\n",
       "      <td>13.819812</td>\n",
       "      <td>39269.612903</td>\n",
       "      <td>2.165061e+07</td>\n",
       "    </tr>\n",
       "    <tr>\n",
       "      <th>99</th>\n",
       "      <td>Uruguay</td>\n",
       "      <td>19.461190</td>\n",
       "      <td>7622.071429</td>\n",
       "      <td>2.502052e+05</td>\n",
       "    </tr>\n",
       "    <tr>\n",
       "      <th>100</th>\n",
       "      <td>Uzbekistan</td>\n",
       "      <td>8.099129</td>\n",
       "      <td>976.181818</td>\n",
       "      <td>1.842510e+06</td>\n",
       "    </tr>\n",
       "  </tbody>\n",
       "</table>\n",
       "<p>101 rows × 4 columns</p>\n",
       "</div>"
      ],
      "text/plain": [
       "                  country  suicides_per_100k_pop  gdp_per_capita    population\n",
       "0                 Albania               3.502879     1859.045455  2.360813e+05\n",
       "1     Antigua and Barbuda               0.552901    10448.185185  6.142679e+03\n",
       "2               Argentina              10.469328     7914.096774  2.784907e+06\n",
       "3                 Armenia               3.275872     1873.919463  2.595576e+05\n",
       "4                   Aruba               9.503095    24221.642857  7.498077e+03\n",
       "..                    ...                    ...             ...           ...\n",
       "96   United Arab Emirates               1.317917    42162.000000  5.069760e+05\n",
       "97         United Kingdom               7.502473    31908.354839  4.674107e+06\n",
       "98          United States              13.819812    39269.612903  2.165061e+07\n",
       "99                Uruguay              19.461190     7622.071429  2.502052e+05\n",
       "100            Uzbekistan               8.099129      976.181818  1.842510e+06\n",
       "\n",
       "[101 rows x 4 columns]"
      ]
     },
     "execution_count": 17,
     "metadata": {},
     "output_type": "execute_result"
    }
   ],
   "source": [
    "country_rate = df.groupby('country').suicides_per_100k_pop.mean().reset_index()\n",
    "country_gdp_cap = df.groupby('country').gdp_per_capita.mean().reset_index()\n",
    "country_pop = df.groupby('country').population.mean().reset_index()\n",
    "new_df = pd.merge(country_rate, country_gdp_cap, on='country')\n",
    "new_df = pd.merge(new_df, country_pop, on='country')\n",
    "new_df"
   ]
  },
  {
   "cell_type": "code",
   "execution_count": 18,
   "metadata": {},
   "outputs": [
    {
     "data": {
      "text/html": [
       "<div>\n",
       "<style scoped>\n",
       "    .dataframe tbody tr th:only-of-type {\n",
       "        vertical-align: middle;\n",
       "    }\n",
       "\n",
       "    .dataframe tbody tr th {\n",
       "        vertical-align: top;\n",
       "    }\n",
       "\n",
       "    .dataframe thead th {\n",
       "        text-align: right;\n",
       "    }\n",
       "</style>\n",
       "<table border=\"1\" class=\"dataframe\">\n",
       "  <thead>\n",
       "    <tr style=\"text-align: right;\">\n",
       "      <th></th>\n",
       "      <th>country</th>\n",
       "      <th>suicides_per_100k_pop</th>\n",
       "      <th>gdp_per_capita</th>\n",
       "      <th>population</th>\n",
       "    </tr>\n",
       "  </thead>\n",
       "  <tbody>\n",
       "    <tr>\n",
       "      <th>0</th>\n",
       "      <td>Albania</td>\n",
       "      <td>3.502879</td>\n",
       "      <td>0.018590</td>\n",
       "      <td>0.002361</td>\n",
       "    </tr>\n",
       "    <tr>\n",
       "      <th>1</th>\n",
       "      <td>Antigua and Barbuda</td>\n",
       "      <td>0.552901</td>\n",
       "      <td>0.104482</td>\n",
       "      <td>0.000061</td>\n",
       "    </tr>\n",
       "    <tr>\n",
       "      <th>2</th>\n",
       "      <td>Argentina</td>\n",
       "      <td>10.469328</td>\n",
       "      <td>0.079141</td>\n",
       "      <td>0.027849</td>\n",
       "    </tr>\n",
       "    <tr>\n",
       "      <th>3</th>\n",
       "      <td>Armenia</td>\n",
       "      <td>3.275872</td>\n",
       "      <td>0.018739</td>\n",
       "      <td>0.002596</td>\n",
       "    </tr>\n",
       "    <tr>\n",
       "      <th>4</th>\n",
       "      <td>Aruba</td>\n",
       "      <td>9.503095</td>\n",
       "      <td>0.242216</td>\n",
       "      <td>0.000075</td>\n",
       "    </tr>\n",
       "    <tr>\n",
       "      <th>...</th>\n",
       "      <td>...</td>\n",
       "      <td>...</td>\n",
       "      <td>...</td>\n",
       "      <td>...</td>\n",
       "    </tr>\n",
       "    <tr>\n",
       "      <th>96</th>\n",
       "      <td>United Arab Emirates</td>\n",
       "      <td>1.317917</td>\n",
       "      <td>0.421620</td>\n",
       "      <td>0.005070</td>\n",
       "    </tr>\n",
       "    <tr>\n",
       "      <th>97</th>\n",
       "      <td>United Kingdom</td>\n",
       "      <td>7.502473</td>\n",
       "      <td>0.319084</td>\n",
       "      <td>0.046741</td>\n",
       "    </tr>\n",
       "    <tr>\n",
       "      <th>98</th>\n",
       "      <td>United States</td>\n",
       "      <td>13.819812</td>\n",
       "      <td>0.392696</td>\n",
       "      <td>0.216506</td>\n",
       "    </tr>\n",
       "    <tr>\n",
       "      <th>99</th>\n",
       "      <td>Uruguay</td>\n",
       "      <td>19.461190</td>\n",
       "      <td>0.076221</td>\n",
       "      <td>0.002502</td>\n",
       "    </tr>\n",
       "    <tr>\n",
       "      <th>100</th>\n",
       "      <td>Uzbekistan</td>\n",
       "      <td>8.099129</td>\n",
       "      <td>0.009762</td>\n",
       "      <td>0.018425</td>\n",
       "    </tr>\n",
       "  </tbody>\n",
       "</table>\n",
       "<p>101 rows × 4 columns</p>\n",
       "</div>"
      ],
      "text/plain": [
       "                  country  suicides_per_100k_pop  gdp_per_capita  population\n",
       "0                 Albania               3.502879        0.018590    0.002361\n",
       "1     Antigua and Barbuda               0.552901        0.104482    0.000061\n",
       "2               Argentina              10.469328        0.079141    0.027849\n",
       "3                 Armenia               3.275872        0.018739    0.002596\n",
       "4                   Aruba               9.503095        0.242216    0.000075\n",
       "..                    ...                    ...             ...         ...\n",
       "96   United Arab Emirates               1.317917        0.421620    0.005070\n",
       "97         United Kingdom               7.502473        0.319084    0.046741\n",
       "98          United States              13.819812        0.392696    0.216506\n",
       "99                Uruguay              19.461190        0.076221    0.002502\n",
       "100            Uzbekistan               8.099129        0.009762    0.018425\n",
       "\n",
       "[101 rows x 4 columns]"
      ]
     },
     "execution_count": 18,
     "metadata": {},
     "output_type": "execute_result"
    }
   ],
   "source": [
    "new_df['gdp_per_capita'] /= 100000   # too large x values send the y values out of normal range and cause calculation errors\n",
    "new_df['population'] /= 100000000\n",
    "new_df"
   ]
  },
  {
   "cell_type": "code",
   "execution_count": 19,
   "metadata": {},
   "outputs": [],
   "source": [
    "x = new_df[['gdp_per_capita', 'population']]\n",
    "y = pd.DataFrame(list(new_df.suicides_per_100k_pop))"
   ]
  },
  {
   "cell_type": "code",
   "execution_count": 20,
   "metadata": {},
   "outputs": [
    {
     "data": {
      "image/png": "[encoded data removed]",
      "text/plain": [
       "<Figure size 432x288 with 1 Axes>"
      ]
     },
     "metadata": {
      "needs_background": "light"
     },
     "output_type": "display_data"
    }
   ],
   "source": [
    "theta = [0,0,0]\n",
    "lr = 0.08 # learning rate\n",
    "epochs = 20\n",
    "it_paras, it_costs = lrdg_iterative(theta, x, y, lr, epochs)\n",
    "plt.plot(it_costs, 'go-', label='Iterative')\n",
    "plt.legend()\n",
    "plt.ylabel('Costs')\n",
    "plt.xlabel('Iterations')\n",
    "plt.title('Cost Function');"
   ]
  },
  {
   "cell_type": "code",
   "execution_count": 21,
   "metadata": {},
   "outputs": [
    {
     "data": {
      "image/png": "[encoded data removed]",
      "text/plain": [
       "<Figure size 432x288 with 1 Axes>"
      ]
     },
     "metadata": {
      "needs_background": "light"
     },
     "output_type": "display_data"
    }
   ],
   "source": [
    "X = pd.concat([pd.DataFrame(np.ones((len(y[0]),1))),x], axis = 1) # adding constant term to each train data\n",
    "theta = np.zeros((3,1))\n",
    "epochs = 20 # run 20 single step gd to get cost functions and parameters to compare with the non-linear-algebra approach\n",
    "lr = 0.08\n",
    "p, la_paras, la_costs = gradientDescent(X, y, theta, lr, epochs)\n",
    "plt.plot(la_costs, 'go-', label='Lin-Alg')\n",
    "plt.plot(it_costs, 'r+', label='Iterative')\n",
    "plt.legend()\n",
    "plt.ylabel('Costs')\n",
    "plt.xlabel('Iterations')\n",
    "plt.title('Cost Function');"
   ]
  },
  {
   "cell_type": "code",
   "execution_count": 22,
   "metadata": {},
   "outputs": [
    {
     "data": {
      "image/png": "[encoded data removed]",
      "text/plain": [
       "<Figure size 432x288 with 1 Axes>"
      ]
     },
     "metadata": {
      "needs_background": "light"
     },
     "output_type": "display_data"
    }
   ],
   "source": [
    "costs_vs_lr = []\n",
    "for i in range(10):\n",
    "    lr = 0.01 + i * 0.02\n",
    "    theta = np.zeros((3,1))\n",
    "    epochs = 20 # run 20 single step gd to get cost functions and parameters to compare with the non-linear-algebra approach\n",
    "    p, _paras, _costs = gradientDescent(X, y, theta, lr, epochs)\n",
    "    costs_vs_lr.append(_costs)\n",
    "\n",
    "for i, costs in enumerate(costs_vs_lr):    \n",
    "    color = list(np.random.random(size=3))\n",
    "    plt.plot(range(20), costs, c = color, label='lr={:.2f}'.format(0.01 + i * 0.02))\n",
    "plt.ylabel('cost')\n",
    "plt.legend()\n",
    "plt.ylabel('Costs')\n",
    "plt.xlabel('Iterations')\n",
    "plt.title('Cost Function');"
   ]
  },
  {
   "cell_type": "code",
   "execution_count": 23,
   "metadata": {},
   "outputs": [
    {
     "name": "stdout",
     "output_type": "stream",
     "text": [
      "[42.67905055] 45.40899256109702 [45.40899256]\n",
      "[[11.30774931]\n",
      " [ 1.75269159]\n",
      " [28.15013571]] (9.604756346067578, 1.581314303536015, 0.1940886691982835) [[9.60475635]\n",
      " [1.5813143 ]\n",
      " [0.19408867]]\n"
     ]
    }
   ],
   "source": [
    "ne_para = normalEquation(X,y)\n",
    "ne_cost = cal_cost(lambda x: ne_para[0] + ne_para[1]*x[0] + ne_para[2]*x[1], x, y[0])\n",
    "print(ne_cost, it_costs[-1], la_costs[-1])\n",
    "print(ne_para, it_paras[-1], la_paras[-1])"
   ]
  },
  {
   "cell_type": "code",
   "execution_count": 24,
   "metadata": {},
   "outputs": [
    {
     "name": "stdout",
     "output_type": "stream",
     "text": [
      "[[ 1.75269159 28.15013571]] [[11.30774931]\n",
      " [ 1.75269159]\n",
      " [28.15013571]]\n",
      "[42.67905055] [42.67905055]\n"
     ]
    }
   ],
   "source": [
    "from sklearn.linear_model import LinearRegression\n",
    "linReg = LinearRegression()\n",
    "reg = linReg.fit(x, y)\n",
    "sk_cost = cal_cost(lambda x: reg.intercept_ + reg.coef_[0][0] *x[0] + reg.coef_[0][1]*x[1], x, y[0])\n",
    "print(reg.coef_, ne_para)\n",
    "print(sk_cost, ne_cost)"
   ]
  },
  {
   "cell_type": "code",
   "execution_count": 25,
   "metadata": {},
   "outputs": [
    {
     "name": "stdout",
     "output_type": "stream",
     "text": [
      "2.51 s ± 23.1 ms per loop (mean ± std. dev. of 7 runs, 1 loop each)\n"
     ]
    }
   ],
   "source": [
    "%timeit _, _ = lrdg_iterative(theta, x, y, lr, epochs)"
   ]
  },
  {
   "cell_type": "code",
   "execution_count": 26,
   "metadata": {},
   "outputs": [
    {
     "name": "stdout",
     "output_type": "stream",
     "text": [
      "651 ms ± 6.35 ms per loop (mean ± std. dev. of 7 runs, 1 loop each)\n"
     ]
    }
   ],
   "source": [
    "%timeit _, _, _ = gradientDescent(X, y, theta, lr, epochs)"
   ]
  },
  {
   "cell_type": "code",
   "execution_count": 27,
   "metadata": {},
   "outputs": [
    {
     "name": "stdout",
     "output_type": "stream",
     "text": [
      "1.08 ms ± 22.3 µs per loop (mean ± std. dev. of 7 runs, 1000 loops each)\n"
     ]
    }
   ],
   "source": [
    "%timeit _ = normalEquation(X,y)"
   ]
  },
  {
   "cell_type": "code",
   "execution_count": 28,
   "metadata": {},
   "outputs": [
    {
     "name": "stdout",
     "output_type": "stream",
     "text": [
      "2.07 ms ± 76.3 µs per loop (mean ± std. dev. of 7 runs, 100 loops each)\n"
     ]
    }
   ],
   "source": [
    "%timeit _ = linReg.fit(x, y)"
   ]
  },
  {
   "cell_type": "code",
   "execution_count": 29,
   "metadata": {},
   "outputs": [
    {
     "data": {
      "text/html": [
       "<div>\n",
       "<style scoped>\n",
       "    .dataframe tbody tr th:only-of-type {\n",
       "        vertical-align: middle;\n",
       "    }\n",
       "\n",
       "    .dataframe tbody tr th {\n",
       "        vertical-align: top;\n",
       "    }\n",
       "\n",
       "    .dataframe thead th {\n",
       "        text-align: right;\n",
       "    }\n",
       "</style>\n",
       "<table border=\"1\" class=\"dataframe\">\n",
       "  <thead>\n",
       "    <tr style=\"text-align: right;\">\n",
       "      <th></th>\n",
       "      <th>Cost</th>\n",
       "      <th>theta_0</th>\n",
       "      <th>theta_1</th>\n",
       "      <th>theta_2</th>\n",
       "      <th>timeit (ms)</th>\n",
       "    </tr>\n",
       "  </thead>\n",
       "  <tbody>\n",
       "    <tr>\n",
       "      <th>Iterative 20 It</th>\n",
       "      <td>45.408993</td>\n",
       "      <td>9.604756</td>\n",
       "      <td>1.581314</td>\n",
       "      <td>0.194089</td>\n",
       "      <td>2460.00</td>\n",
       "    </tr>\n",
       "    <tr>\n",
       "      <th>Linear Algebra 20 It</th>\n",
       "      <td>45.408993</td>\n",
       "      <td>9.604756</td>\n",
       "      <td>1.581314</td>\n",
       "      <td>0.194089</td>\n",
       "      <td>647.00</td>\n",
       "    </tr>\n",
       "    <tr>\n",
       "      <th>Normal Equation</th>\n",
       "      <td>42.679051</td>\n",
       "      <td>11.307749</td>\n",
       "      <td>1.752692</td>\n",
       "      <td>28.150136</td>\n",
       "      <td>1.06</td>\n",
       "    </tr>\n",
       "    <tr>\n",
       "      <th>SKLearn</th>\n",
       "      <td>42.679051</td>\n",
       "      <td>11.307749</td>\n",
       "      <td>1.752692</td>\n",
       "      <td>28.150136</td>\n",
       "      <td>2.27</td>\n",
       "    </tr>\n",
       "  </tbody>\n",
       "</table>\n",
       "</div>"
      ],
      "text/plain": [
       "                           Cost    theta_0   theta_1    theta_2  timeit (ms)\n",
       "Iterative 20 It       45.408993   9.604756  1.581314   0.194089      2460.00\n",
       "Linear Algebra 20 It  45.408993   9.604756  1.581314   0.194089       647.00\n",
       "Normal Equation       42.679051  11.307749  1.752692  28.150136         1.06\n",
       "SKLearn               42.679051  11.307749  1.752692  28.150136         2.27"
      ]
     },
     "execution_count": 29,
     "metadata": {},
     "output_type": "execute_result"
    }
   ],
   "source": [
    "compare_df = pd.DataFrame([np.append(it_costs[-1], it_paras[-1]), \n",
    "                           np.append(la_costs[-1], la_paras[-1]), \n",
    "                           np.append(ne_cost, ne_para), \n",
    "                           np.append([sk_cost, reg.intercept_], reg.coef_[0])],\n",
    "                         index = ['Iterative 20 It', 'Linear Algebra 20 It', 'Normal Equation', 'SKLearn'],\n",
    "                         columns = ['Cost', 'theta_0', 'theta_1', 'theta_2'])\n",
    "compare_df['timeit (ms)'] = pd.Series([2460, 647, 1.06, 2.27], index = compare_df.index)\n",
    "compare_df"
   ]
  }
 ],
 "metadata": {
  "kernelspec": {
   "display_name": "Python 3",
   "language": "python",
   "name": "python3"
  },
  "language_info": {
   "codemirror_mode": {
    "name": "ipython",
    "version": 3
   },
   "file_extension": ".py",
   "mimetype": "text/x-python",
   "name": "python",
   "nbconvert_exporter": "python",
   "pygments_lexer": "ipython3",
   "version": "3.6.6"
  }
 },
 "nbformat": 4,
 "nbformat_minor": 1
}
