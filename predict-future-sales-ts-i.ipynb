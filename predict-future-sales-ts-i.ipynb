{
 "cells": [
  {
   "cell_type": "code",
   "execution_count": 1,
   "metadata": {
    "_cell_guid": "b1076dfc-b9ad-4769-8c92-a6c4dae69d19",
    "_uuid": "8f2839f25d086af736a60e9eeb907d3b93b6e0e5"
   },
   "outputs": [
    {
     "name": "stdout",
     "output_type": "stream",
     "text": [
      "/kaggle/input/competitive-data-science-predict-future-sales/test.csv\n",
      "/kaggle/input/competitive-data-science-predict-future-sales/item_categories.csv\n",
      "/kaggle/input/competitive-data-science-predict-future-sales/shops.csv\n",
      "/kaggle/input/competitive-data-science-predict-future-sales/items.csv\n",
      "/kaggle/input/competitive-data-science-predict-future-sales/sales_train.csv\n",
      "/kaggle/input/competitive-data-science-predict-future-sales/sample_submission.csv\n"
     ]
    }
   ],
   "source": [
    "# This Python 3 environment comes with many helpful analytics libraries installed\n",
    "# It is defined by the kaggle/python docker image: https://github.com/kaggle/docker-python\n",
    "# For example, here's several helpful packages to load in \n",
    "\n",
    "import numpy as np # linear algebra\n",
    "import pandas as pd # data processing, CSV file I/O (e.g. pd.read_csv)\n",
    "import matplotlib.pyplot as plt\n",
    "import seaborn as sns\n",
    "from statsmodels.tsa.arima_model import ARIMA\n",
    "from statsmodels.tsa.statespace.sarimax import SARIMAX\n",
    "from statsmodels.tsa.stattools import adfuller, acf, pacf,arma_order_select_ic\n",
    "\n",
    "import statsmodels.api as sm\n",
    "\n",
    "import warnings\n",
    "warnings.filterwarnings(\"ignore\")\n",
    "# Input data files are available in the \"../input/\" directory.\n",
    "# For example, running this (by clicking run or pressing Shift+Enter) will list all files under the input directory\n",
    "\n",
    "import os\n",
    "for dirname, _, filenames in os.walk('/kaggle/input'):\n",
    "    for filename in filenames:\n",
    "        print(os.path.join(dirname, filename))\n",
    "\n",
    "# Any results you write to the current directory are saved as output."
   ]
  },
  {
   "cell_type": "code",
   "execution_count": 2,
   "metadata": {
    "_cell_guid": "79c7e3d0-c299-4dcb-8224-4455121ee9b0",
    "_uuid": "d629ff2d2480ee46fbb7e2d37f6b5fab8052498a"
   },
   "outputs": [],
   "source": [
    "train = pd.read_csv('../input/competitive-data-science-predict-future-sales/sales_train.csv', parse_dates=['date'])\n",
    "items = pd.read_csv('../input/competitive-data-science-predict-future-sales/items.csv')\n",
    "categories = pd.read_csv('../input/competitive-data-science-predict-future-sales/item_categories.csv')\n",
    "shops = pd.read_csv('../input/competitive-data-science-predict-future-sales/shops.csv')\n",
    "test = pd.read_csv('../input/competitive-data-science-predict-future-sales/test.csv')\n",
    "submission = pd.read_csv('../input/competitive-data-science-predict-future-sales/sample_submission.csv')"
   ]
  },
  {
   "cell_type": "code",
   "execution_count": 3,
   "metadata": {},
   "outputs": [
    {
     "data": {
      "text/html": [
       "<div>\n",
       "<style scoped>\n",
       "    .dataframe tbody tr th:only-of-type {\n",
       "        vertical-align: middle;\n",
       "    }\n",
       "\n",
       "    .dataframe tbody tr th {\n",
       "        vertical-align: top;\n",
       "    }\n",
       "\n",
       "    .dataframe thead th {\n",
       "        text-align: right;\n",
       "    }\n",
       "</style>\n",
       "<table border=\"1\" class=\"dataframe\">\n",
       "  <thead>\n",
       "    <tr style=\"text-align: right;\">\n",
       "      <th></th>\n",
       "      <th>date</th>\n",
       "      <th>date_block_num</th>\n",
       "      <th>shop_id</th>\n",
       "      <th>item_id</th>\n",
       "      <th>item_price</th>\n",
       "      <th>item_cnt_day</th>\n",
       "      <th>item_category_id</th>\n",
       "    </tr>\n",
       "  </thead>\n",
       "  <tbody>\n",
       "    <tr>\n",
       "      <th>2683522</th>\n",
       "      <td>2014-12-21</td>\n",
       "      <td>23</td>\n",
       "      <td>35</td>\n",
       "      <td>12194</td>\n",
       "      <td>499.0</td>\n",
       "      <td>2.0</td>\n",
       "      <td>30</td>\n",
       "    </tr>\n",
       "    <tr>\n",
       "      <th>2701341</th>\n",
       "      <td>2015-09-18</td>\n",
       "      <td>32</td>\n",
       "      <td>12</td>\n",
       "      <td>12193</td>\n",
       "      <td>1199.0</td>\n",
       "      <td>1.0</td>\n",
       "      <td>28</td>\n",
       "    </tr>\n",
       "    <tr>\n",
       "      <th>2046135</th>\n",
       "      <td>2013-12-13</td>\n",
       "      <td>11</td>\n",
       "      <td>26</td>\n",
       "      <td>17346</td>\n",
       "      <td>399.0</td>\n",
       "      <td>1.0</td>\n",
       "      <td>40</td>\n",
       "    </tr>\n",
       "    <tr>\n",
       "      <th>2408346</th>\n",
       "      <td>2014-10-27</td>\n",
       "      <td>21</td>\n",
       "      <td>42</td>\n",
       "      <td>4979</td>\n",
       "      <td>299.0</td>\n",
       "      <td>1.0</td>\n",
       "      <td>55</td>\n",
       "    </tr>\n",
       "    <tr>\n",
       "      <th>1358153</th>\n",
       "      <td>2013-02-05</td>\n",
       "      <td>4</td>\n",
       "      <td>57</td>\n",
       "      <td>17782</td>\n",
       "      <td>399.0</td>\n",
       "      <td>1.0</td>\n",
       "      <td>40</td>\n",
       "    </tr>\n",
       "  </tbody>\n",
       "</table>\n",
       "</div>"
      ],
      "text/plain": [
       "              date  date_block_num  shop_id  item_id  item_price  \\\n",
       "2683522 2014-12-21              23       35    12194       499.0   \n",
       "2701341 2015-09-18              32       12    12193      1199.0   \n",
       "2046135 2013-12-13              11       26    17346       399.0   \n",
       "2408346 2014-10-27              21       42     4979       299.0   \n",
       "1358153 2013-02-05               4       57    17782       399.0   \n",
       "\n",
       "         item_cnt_day  item_category_id  \n",
       "2683522           2.0                30  \n",
       "2701341           1.0                28  \n",
       "2046135           1.0                40  \n",
       "2408346           1.0                55  \n",
       "1358153           1.0                40  "
      ]
     },
     "execution_count": 3,
     "metadata": {},
     "output_type": "execute_result"
    }
   ],
   "source": [
    "train = pd.merge(train, items.drop('item_name', axis=1),on='item_id') #train.join(items.drop('item_name', axis=1), on=['item_id'])\n",
    "train.sample(5)"
   ]
  },
  {
   "cell_type": "code",
   "execution_count": 4,
   "metadata": {},
   "outputs": [
    {
     "data": {
      "text/html": [
       "<div>\n",
       "<style scoped>\n",
       "    .dataframe tbody tr th:only-of-type {\n",
       "        vertical-align: middle;\n",
       "    }\n",
       "\n",
       "    .dataframe tbody tr th {\n",
       "        vertical-align: top;\n",
       "    }\n",
       "\n",
       "    .dataframe thead th {\n",
       "        text-align: right;\n",
       "    }\n",
       "</style>\n",
       "<table border=\"1\" class=\"dataframe\">\n",
       "  <thead>\n",
       "    <tr style=\"text-align: right;\">\n",
       "      <th></th>\n",
       "      <th>item_category_name</th>\n",
       "      <th>item_category_id</th>\n",
       "    </tr>\n",
       "  </thead>\n",
       "  <tbody>\n",
       "    <tr>\n",
       "      <th>0</th>\n",
       "      <td>PC - Гарнитуры/Наушники</td>\n",
       "      <td>0</td>\n",
       "    </tr>\n",
       "    <tr>\n",
       "      <th>1</th>\n",
       "      <td>Аксессуары - PS2</td>\n",
       "      <td>1</td>\n",
       "    </tr>\n",
       "    <tr>\n",
       "      <th>2</th>\n",
       "      <td>Аксессуары - PS3</td>\n",
       "      <td>2</td>\n",
       "    </tr>\n",
       "  </tbody>\n",
       "</table>\n",
       "</div>"
      ],
      "text/plain": [
       "        item_category_name  item_category_id\n",
       "0  PC - Гарнитуры/Наушники                 0\n",
       "1         Аксессуары - PS2                 1\n",
       "2         Аксессуары - PS3                 2"
      ]
     },
     "execution_count": 4,
     "metadata": {},
     "output_type": "execute_result"
    }
   ],
   "source": [
    "categories.head(3)"
   ]
  },
  {
   "cell_type": "code",
   "execution_count": 5,
   "metadata": {},
   "outputs": [
    {
     "data": {
      "text/html": [
       "<div>\n",
       "<style scoped>\n",
       "    .dataframe tbody tr th:only-of-type {\n",
       "        vertical-align: middle;\n",
       "    }\n",
       "\n",
       "    .dataframe tbody tr th {\n",
       "        vertical-align: top;\n",
       "    }\n",
       "\n",
       "    .dataframe thead th {\n",
       "        text-align: right;\n",
       "    }\n",
       "</style>\n",
       "<table border=\"1\" class=\"dataframe\">\n",
       "  <thead>\n",
       "    <tr style=\"text-align: right;\">\n",
       "      <th></th>\n",
       "      <th>item_category_name</th>\n",
       "      <th>item_category_id</th>\n",
       "    </tr>\n",
       "  </thead>\n",
       "  <tbody>\n",
       "    <tr>\n",
       "      <th>81</th>\n",
       "      <td>Чистые носители (шпиль)</td>\n",
       "      <td>81</td>\n",
       "    </tr>\n",
       "    <tr>\n",
       "      <th>50</th>\n",
       "      <td>Books - Methodological materials 1C</td>\n",
       "      <td>50</td>\n",
       "    </tr>\n",
       "    <tr>\n",
       "      <th>45</th>\n",
       "      <td>Books - Audiobooks (Digit)</td>\n",
       "      <td>45</td>\n",
       "    </tr>\n",
       "    <tr>\n",
       "      <th>39</th>\n",
       "      <td>Cinema - Blu-Ray 3D</td>\n",
       "      <td>39</td>\n",
       "    </tr>\n",
       "    <tr>\n",
       "      <th>64</th>\n",
       "      <td>Gifts - Soft Toys</td>\n",
       "      <td>64</td>\n",
       "    </tr>\n",
       "  </tbody>\n",
       "</table>\n",
       "</div>"
      ],
      "text/plain": [
       "                     item_category_name  item_category_id\n",
       "81              Чистые носители (шпиль)                81\n",
       "50  Books - Methodological materials 1C                50\n",
       "45           Books - Audiobooks (Digit)                45\n",
       "39                  Cinema - Blu-Ray 3D                39\n",
       "64                    Gifts - Soft Toys                64"
      ]
     },
     "execution_count": 5,
     "metadata": {},
     "output_type": "execute_result"
    }
   ],
   "source": [
    "def build_dict(o,t):\n",
    "    l = []\n",
    "    s,f = 0,0\n",
    "    c = \"\"\n",
    "    while f < len(t):\n",
    "        while f < len(t) and not t[f].isalpha() :\n",
    "            f += 1\n",
    "        while f < len(t) and t[f] != \"\\'\" :\n",
    "            c += t[f]\n",
    "            f += 1\n",
    "        if c != \"\":\n",
    "            l.append(c)\n",
    "        c = \"\"\n",
    "#     print(*zip(o,l), sep=\"\\n\")\n",
    "    dic = dict(zip(o,l))\n",
    "    return dic\n",
    "\n",
    "t = '''\n",
    "'PC - Headsets / Headphones' 'Accessories - PS2' 'Accessories - PS3'\n",
    " 'Accessories - PS4' 'Accessories - PSP' 'Accessories - PSVita'\n",
    " 'Accessories - XBOX 360' 'Accessories - XBOX ONE' 'Tickets (Digit)'\n",
    " '' Product delivery '' Game consoles - PS2 '' Game consoles - PS3 '\n",
    " 'Game consoles - PS4' 'Game consoles - PSP'\n",
    " 'Game consoles - PSVita' 'Game consoles - XBOX 360'\n",
    " 'Game consoles - XBOX ONE' 'Game consoles - Other' 'Games - PS2'\n",
    " '' Games - PS3 '' Games - PS4 '' Games - PSP '' Games - PSVita '' Games - XBOX 360 '\n",
    " '' Games - XBOX ONE '' Games - Accessories for games' 'Android Games - Digit'\n",
    " 'MAC Games - Digital' PC Games - Additional Editions'\n",
    " 'PC Games - Collector's Editions' 'PC Games - Standard Editions'\n",
    " 'PC Games - Digit' 'Payment cards (Cinema, Music, Games)'\n",
    " 'Payment Cards - Live!' 'Payment Cards - Live! (Numeral)'\n",
    " 'Payment Cards - PSN' 'Payment Cards - Windows (Digital)' 'Cinema - Blu-Ray'\n",
    " 'Cinema - Blu-Ray 3D' 'Cinema - Blu-Ray 4K' 'Cinema - DVD'\n",
    " 'Cinema - Collection' 'Books - Artbooks, Encyclopedias'\n",
    " 'Books - Audiobooks' 'Books - Audiobooks (Digit)' 'Books - Audiobooks 1C'\n",
    " 'Books - Business Literature' 'Books - Comics, Manga'\n",
    " 'Books - Computer literature' 'Books - Methodological materials 1C'\n",
    " 'Books - Postcards' 'Books - Cognitive literature'\n",
    " 'Books - Guides' 'Books - Fiction'\n",
    " 'Books - Digital' 'Music - Local Production CD'\n",
    " 'Music - Corporate Production CD' 'Music - MP3' 'Music - Vinyl'\n",
    " 'Music - Music Video' 'Music - Gift Editions'\n",
    " 'Gifts - Attributes' 'Gifts - Gadgets, robots, sports'\n",
    " 'Gifts - Soft Toys' 'Gifts - Board Games'\n",
    " 'Gifts - Souvenirs (in bulk)'\n",
    " 'Gifts - Bags, Albums, Mousepads' 'Gifts - Figures'\n",
    " 'Programs - 1C: Enterprise 8' 'Programs - MAC (Digit)'\n",
    " 'Programs - For home and office' 'Programs - For home and office (Digit)'\n",
    " 'Programs - Educational' 'Programs - Educational (Numeral)' 'Utilities'\n",
    " 'Service - Tickets' 'Net carriers (spire)'\n",
    " 'Clean media (piece)' 'Batteries'\n",
    "'''\n",
    "\n",
    "dic = build_dict(list(categories.item_category_name.unique()), t)\n",
    "categories.replace(dic, inplace=True)\n",
    "categories.sample(5)"
   ]
  },
  {
   "cell_type": "code",
   "execution_count": 6,
   "metadata": {},
   "outputs": [
    {
     "name": "stdout",
     "output_type": "stream",
     "text": [
      "(2935849, 7) (214200, 3)\n",
      "train has all shops in test?  True\n",
      "train has all items in test?  False\n",
      "number of items in test is:  5100\n",
      "how many items in test are not in train?  363\n",
      "percent missing:  7.11764705882353\n"
     ]
    }
   ],
   "source": [
    "print(train.shape, test.shape)\n",
    "print(\"train has all shops in test? \",set(test.shop_id.unique()).issubset(set(train.shop_id.unique())))\n",
    "print(\"train has all items in test? \",set(test.item_id.unique()).issubset(set(train.item_id.unique())))\n",
    "print(\"number of items in test is: \", len(set(test.item_id.unique())))\n",
    "print(\"how many items in test are not in train? \", len(set(test.item_id.unique()).difference(set(train.item_id.unique()))) )\n",
    "print(\"percent missing: \", len(set(test.item_id.unique()).difference(set(train.item_id.unique())))/len(set(test.item_id.unique()))*100)"
   ]
  },
  {
   "cell_type": "code",
   "execution_count": 7,
   "metadata": {},
   "outputs": [
    {
     "data": {
      "image/png": "[encoded data removed]",
      "text/plain": [
       "<Figure size 1152x576 with 1 Axes>"
      ]
     },
     "metadata": {
      "needs_background": "light"
     },
     "output_type": "display_data"
    }
   ],
   "source": [
    "ts=train.groupby([\"date_block_num\"])[\"item_cnt_day\"].sum()\n",
    "ts.astype('float')\n",
    "plt.figure(figsize=(16,8))\n",
    "plt.title('Total Sales of the company')\n",
    "plt.xlabel('Time (Month)')\n",
    "plt.ylabel('Sales (Item Count)')\n",
    "plt.plot(ts);"
   ]
  },
  {
   "cell_type": "code",
   "execution_count": 8,
   "metadata": {},
   "outputs": [
    {
     "data": {
      "image/png": "[encoded data removed]",
      "text/plain": [
       "<Figure size 432x288 with 4 Axes>"
      ]
     },
     "metadata": {
      "needs_background": "light"
     },
     "output_type": "display_data"
    }
   ],
   "source": [
    "res = sm.tsa.seasonal_decompose(ts.values,freq=12) #,model=\"multiplicative\")\n",
    "res.plot();"
   ]
  },
  {
   "cell_type": "code",
   "execution_count": 9,
   "metadata": {},
   "outputs": [
    {
     "name": "stdout",
     "output_type": "stream",
     "text": [
      "==============================================================================\n",
      "                 coef    std err          z      P>|z|      [0.025      0.975]\n",
      "------------------------------------------------------------------------------\n",
      "ar.L1         -1.0484      2.962     -0.354      0.723      -6.854       4.757\n",
      "ma.L1         -0.3043      1.466     -0.208      0.836      -3.177       2.569\n",
      "ar.S.L12       0.4111      1.763      0.233      0.816      -3.045       3.867\n",
      "sigma2      9.765e+07   6.77e-09   1.44e+16      0.000    9.76e+07    9.76e+07\n",
      "==============================================================================\n"
     ]
    }
   ],
   "source": [
    "mod = sm.tsa.statespace.SARIMAX(ts,\n",
    "                                order=(1, 1, 1),\n",
    "                                seasonal_order=(1, 1, 0, 12),\n",
    "                                enforce_stationarity=False,\n",
    "                                enforce_invertibility=False)\n",
    "results = mod.fit()\n",
    "print(results.summary().tables[1])"
   ]
  },
  {
   "cell_type": "code",
   "execution_count": 10,
   "metadata": {},
   "outputs": [
    {
     "data": {
      "image/png": "[encoded data removed]",
      "text/plain": [
       "<Figure size 1152x576 with 4 Axes>"
      ]
     },
     "metadata": {
      "needs_background": "light"
     },
     "output_type": "display_data"
    }
   ],
   "source": [
    "results.plot_diagnostics(lags=4, figsize=(16, 8)) #lags default at 10 is too much and cause acf plot error\n",
    "plt.show()"
   ]
  },
  {
   "cell_type": "code",
   "execution_count": 11,
   "metadata": {},
   "outputs": [
    {
     "data": {
      "image/png": "[encoded data removed]",
      "text/plain": [
       "<Figure size 1008x504 with 1 Axes>"
      ]
     },
     "metadata": {
      "needs_background": "light"
     },
     "output_type": "display_data"
    }
   ],
   "source": [
    "pred = results.get_prediction(start=28, dynamic=False)\n",
    "pred_ci = pred.conf_int()\n",
    "ax = ts.plot(label='observed')\n",
    "pred.predicted_mean.plot(ax=ax, label='One-step ahead Forecast', alpha=.7, figsize=(14, 7))\n",
    "ax.fill_between(pred_ci.index,\n",
    "                pred_ci.iloc[:, 0],\n",
    "                pred_ci.iloc[:, 1], color='k', alpha=.2)\n",
    "ax.set_xlabel('Time (Month)')\n",
    "ax.set_ylabel('Sales (Item Count)')\n",
    "plt.legend()\n",
    "plt.show()"
   ]
  },
  {
   "cell_type": "code",
   "execution_count": 12,
   "metadata": {},
   "outputs": [
    {
     "name": "stdout",
     "output_type": "stream",
     "text": [
      "The Mean Squared Error of our forecasts is 16681771.75\n",
      "The Root Mean Squared Error of our forecasts is 4084.33\n"
     ]
    }
   ],
   "source": [
    "y_forecasted = pred.predicted_mean\n",
    "y_truth = ts[28:]\n",
    "mse = ((y_forecasted - y_truth) ** 2).mean()\n",
    "print('The Mean Squared Error of our forecasts is {}'.format(round(mse, 2)))\n",
    "print('The Root Mean Squared Error of our forecasts is {}'.format(round(np.sqrt(mse), 2)))"
   ]
  },
  {
   "cell_type": "code",
   "execution_count": 13,
   "metadata": {},
   "outputs": [
    {
     "data": {
      "image/png": "[encoded data removed]",
      "text/plain": [
       "<Figure size 1008x504 with 1 Axes>"
      ]
     },
     "metadata": {
      "needs_background": "light"
     },
     "output_type": "display_data"
    }
   ],
   "source": [
    "pred_uc = results.get_forecast(steps=5)\n",
    "pred_ci = pred_uc.conf_int()\n",
    "ax = ts.plot(label='observed', figsize=(14, 7))\n",
    "pred_uc.predicted_mean.plot(ax=ax, label='Forecast')\n",
    "ax.fill_between(pred_ci.index,\n",
    "                pred_ci.iloc[:, 0],\n",
    "                pred_ci.iloc[:, 1], color='k', alpha=.25)\n",
    "ax.set_xlabel('Time (Month)')\n",
    "ax.set_ylabel('Sales (Item Count)')\n",
    "plt.legend()\n",
    "plt.show()"
   ]
  },
  {
   "cell_type": "code",
   "execution_count": 14,
   "metadata": {},
   "outputs": [
    {
     "name": "stdout",
     "output_type": "stream",
     "text": [
      "    lower item_cnt_day  upper item_cnt_day\n",
      "34        81601.935783       120337.486079\n",
      "35       113341.345323       154415.128972\n",
      "36        68368.885631       126595.830446\n",
      "37        13741.252388        74211.829175\n",
      "38        20774.783610        95593.487844 \n",
      " 34    100969.710931\n",
      "35    133878.237148\n",
      "36     97482.358039\n",
      "37     43976.540781\n",
      "38     58184.135727\n",
      "dtype: float64\n"
     ]
    }
   ],
   "source": [
    "print(pred_ci,'\\n', pred_ci.mean(axis=1))"
   ]
  },
  {
   "cell_type": "code",
   "execution_count": 15,
   "metadata": {},
   "outputs": [
    {
     "name": "stdout",
     "output_type": "stream",
     "text": [
      "71056.0 117845.0 100969.71093084232\n",
      "1.4209878255297557 0.8568009752712659\n"
     ]
    }
   ],
   "source": [
    "predicted_sale = pred_ci.iloc[0].mean()\n",
    "last_month_sale = ts.iloc[-1]\n",
    "last_year_sale = ts.iloc[-12]\n",
    "print(last_month_sale, last_year_sale, predicted_sale)\n",
    "rlm = predicted_sale/last_month_sale\n",
    "rly = predicted_sale/last_year_sale\n",
    "print(rlm, rly)"
   ]
  },
  {
   "cell_type": "markdown",
   "metadata": {},
   "source": [
    "if shop-item is never seen in train, shop-item = (last year shop-category.mode or last month shop-category.mode) * ratio;\n",
    "\n",
    "if shop-item was not seen a year ago, shop-item = last month shop-item * ratio\n",
    "\n",
    "shop-item = last year shop-item * ratio"
   ]
  },
  {
   "cell_type": "code",
   "execution_count": 16,
   "metadata": {},
   "outputs": [
    {
     "name": "stdout",
     "output_type": "stream",
     "text": [
      "test shape before  (214200, 3)\n",
      "test shape after  (214200, 4)\n"
     ]
    },
    {
     "data": {
      "text/html": [
       "<div>\n",
       "<style scoped>\n",
       "    .dataframe tbody tr th:only-of-type {\n",
       "        vertical-align: middle;\n",
       "    }\n",
       "\n",
       "    .dataframe tbody tr th {\n",
       "        vertical-align: top;\n",
       "    }\n",
       "\n",
       "    .dataframe thead th {\n",
       "        text-align: right;\n",
       "    }\n",
       "</style>\n",
       "<table border=\"1\" class=\"dataframe\">\n",
       "  <thead>\n",
       "    <tr style=\"text-align: right;\">\n",
       "      <th></th>\n",
       "      <th>ID</th>\n",
       "      <th>shop_id</th>\n",
       "      <th>item_id</th>\n",
       "      <th>item_category_id</th>\n",
       "    </tr>\n",
       "  </thead>\n",
       "  <tbody>\n",
       "    <tr>\n",
       "      <th>0</th>\n",
       "      <td>0</td>\n",
       "      <td>5</td>\n",
       "      <td>5037</td>\n",
       "      <td>19</td>\n",
       "    </tr>\n",
       "    <tr>\n",
       "      <th>1</th>\n",
       "      <td>5100</td>\n",
       "      <td>4</td>\n",
       "      <td>5037</td>\n",
       "      <td>19</td>\n",
       "    </tr>\n",
       "    <tr>\n",
       "      <th>2</th>\n",
       "      <td>10200</td>\n",
       "      <td>6</td>\n",
       "      <td>5037</td>\n",
       "      <td>19</td>\n",
       "    </tr>\n",
       "    <tr>\n",
       "      <th>3</th>\n",
       "      <td>15300</td>\n",
       "      <td>3</td>\n",
       "      <td>5037</td>\n",
       "      <td>19</td>\n",
       "    </tr>\n",
       "    <tr>\n",
       "      <th>4</th>\n",
       "      <td>20400</td>\n",
       "      <td>2</td>\n",
       "      <td>5037</td>\n",
       "      <td>19</td>\n",
       "    </tr>\n",
       "  </tbody>\n",
       "</table>\n",
       "</div>"
      ],
      "text/plain": [
       "      ID  shop_id  item_id  item_category_id\n",
       "0      0        5     5037                19\n",
       "1   5100        4     5037                19\n",
       "2  10200        6     5037                19\n",
       "3  15300        3     5037                19\n",
       "4  20400        2     5037                19"
      ]
     },
     "execution_count": 16,
     "metadata": {},
     "output_type": "execute_result"
    }
   ],
   "source": [
    "test = pd.read_csv('../input/competitive-data-science-predict-future-sales/test.csv')\n",
    "print('test shape before ', test.shape)\n",
    "test = pd.merge(test, items.drop('item_name', axis=1),on='item_id') #train.join(items.drop('item_name', axis=1), on=['item_id'])\n",
    "print('test shape after ', test.shape)\n",
    "test.head(5)"
   ]
  },
  {
   "cell_type": "code",
   "execution_count": 17,
   "metadata": {},
   "outputs": [
    {
     "data": {
      "text/plain": [
       "shop_id  item_id  date_block_num\n",
       "0        30       1                 31.0\n",
       "         31       1                 11.0\n",
       "         32       0                  6.0\n",
       "                  1                 10.0\n",
       "         33       0                  3.0\n",
       "Name: item_cnt_day, dtype: float64"
      ]
     },
     "execution_count": 17,
     "metadata": {},
     "output_type": "execute_result"
    }
   ],
   "source": [
    "monthly_sale_shop_item = train.groupby([\"shop_id\",\"item_id\",\"date_block_num\"])[\"item_cnt_day\"].sum()\n",
    "monthly_sale_shop_item.head()"
   ]
  },
  {
   "cell_type": "code",
   "execution_count": 18,
   "metadata": {},
   "outputs": [
    {
     "data": {
      "text/html": [
       "<div>\n",
       "<style scoped>\n",
       "    .dataframe tbody tr th:only-of-type {\n",
       "        vertical-align: middle;\n",
       "    }\n",
       "\n",
       "    .dataframe tbody tr th {\n",
       "        vertical-align: top;\n",
       "    }\n",
       "\n",
       "    .dataframe thead th {\n",
       "        text-align: right;\n",
       "    }\n",
       "</style>\n",
       "<table border=\"1\" class=\"dataframe\">\n",
       "  <thead>\n",
       "    <tr style=\"text-align: right;\">\n",
       "      <th></th>\n",
       "      <th>shop_id</th>\n",
       "      <th>item_id</th>\n",
       "      <th>date_block_num</th>\n",
       "      <th>item_cnt_day</th>\n",
       "    </tr>\n",
       "  </thead>\n",
       "  <tbody>\n",
       "    <tr>\n",
       "      <th>0</th>\n",
       "      <td>0</td>\n",
       "      <td>30</td>\n",
       "      <td>1</td>\n",
       "      <td>31.0</td>\n",
       "    </tr>\n",
       "    <tr>\n",
       "      <th>1</th>\n",
       "      <td>0</td>\n",
       "      <td>31</td>\n",
       "      <td>1</td>\n",
       "      <td>11.0</td>\n",
       "    </tr>\n",
       "    <tr>\n",
       "      <th>2</th>\n",
       "      <td>0</td>\n",
       "      <td>32</td>\n",
       "      <td>0</td>\n",
       "      <td>6.0</td>\n",
       "    </tr>\n",
       "    <tr>\n",
       "      <th>3</th>\n",
       "      <td>0</td>\n",
       "      <td>32</td>\n",
       "      <td>1</td>\n",
       "      <td>10.0</td>\n",
       "    </tr>\n",
       "    <tr>\n",
       "      <th>4</th>\n",
       "      <td>0</td>\n",
       "      <td>33</td>\n",
       "      <td>0</td>\n",
       "      <td>3.0</td>\n",
       "    </tr>\n",
       "  </tbody>\n",
       "</table>\n",
       "</div>"
      ],
      "text/plain": [
       "   shop_id  item_id  date_block_num  item_cnt_day\n",
       "0        0       30               1          31.0\n",
       "1        0       31               1          11.0\n",
       "2        0       32               0           6.0\n",
       "3        0       32               1          10.0\n",
       "4        0       33               0           3.0"
      ]
     },
     "execution_count": 18,
     "metadata": {},
     "output_type": "execute_result"
    }
   ],
   "source": [
    "monthly_sale_shop_item = monthly_sale_shop_item.reset_index()\n",
    "monthly_sale_shop_item.head()"
   ]
  },
  {
   "cell_type": "code",
   "execution_count": 19,
   "metadata": {},
   "outputs": [
    {
     "data": {
      "text/html": [
       "<div>\n",
       "<style scoped>\n",
       "    .dataframe tbody tr th:only-of-type {\n",
       "        vertical-align: middle;\n",
       "    }\n",
       "\n",
       "    .dataframe tbody tr th {\n",
       "        vertical-align: top;\n",
       "    }\n",
       "\n",
       "    .dataframe thead th {\n",
       "        text-align: right;\n",
       "    }\n",
       "</style>\n",
       "<table border=\"1\" class=\"dataframe\">\n",
       "  <thead>\n",
       "    <tr style=\"text-align: right;\">\n",
       "      <th></th>\n",
       "      <th>shop_id</th>\n",
       "      <th>item_id</th>\n",
       "      <th>date_block_num</th>\n",
       "      <th>item_cnt_day</th>\n",
       "    </tr>\n",
       "  </thead>\n",
       "  <tbody>\n",
       "    <tr>\n",
       "      <th>8113</th>\n",
       "      <td>2</td>\n",
       "      <td>31</td>\n",
       "      <td>33</td>\n",
       "      <td>1.0</td>\n",
       "    </tr>\n",
       "    <tr>\n",
       "      <th>8205</th>\n",
       "      <td>2</td>\n",
       "      <td>486</td>\n",
       "      <td>33</td>\n",
       "      <td>3.0</td>\n",
       "    </tr>\n",
       "    <tr>\n",
       "      <th>8254</th>\n",
       "      <td>2</td>\n",
       "      <td>787</td>\n",
       "      <td>33</td>\n",
       "      <td>1.0</td>\n",
       "    </tr>\n",
       "    <tr>\n",
       "      <th>8284</th>\n",
       "      <td>2</td>\n",
       "      <td>794</td>\n",
       "      <td>33</td>\n",
       "      <td>1.0</td>\n",
       "    </tr>\n",
       "    <tr>\n",
       "      <th>8367</th>\n",
       "      <td>2</td>\n",
       "      <td>968</td>\n",
       "      <td>33</td>\n",
       "      <td>1.0</td>\n",
       "    </tr>\n",
       "  </tbody>\n",
       "</table>\n",
       "</div>"
      ],
      "text/plain": [
       "      shop_id  item_id  date_block_num  item_cnt_day\n",
       "8113        2       31              33           1.0\n",
       "8205        2      486              33           3.0\n",
       "8254        2      787              33           1.0\n",
       "8284        2      794              33           1.0\n",
       "8367        2      968              33           1.0"
      ]
     },
     "execution_count": 19,
     "metadata": {},
     "output_type": "execute_result"
    }
   ],
   "source": [
    "last_month_shop_item = monthly_sale_shop_item[monthly_sale_shop_item['date_block_num'] == 33]\n",
    "last_month_shop_item.head()"
   ]
  },
  {
   "cell_type": "code",
   "execution_count": 20,
   "metadata": {},
   "outputs": [
    {
     "data": {
      "text/html": [
       "<div>\n",
       "<style scoped>\n",
       "    .dataframe tbody tr th:only-of-type {\n",
       "        vertical-align: middle;\n",
       "    }\n",
       "\n",
       "    .dataframe tbody tr th {\n",
       "        vertical-align: top;\n",
       "    }\n",
       "\n",
       "    .dataframe thead th {\n",
       "        text-align: right;\n",
       "    }\n",
       "</style>\n",
       "<table border=\"1\" class=\"dataframe\">\n",
       "  <thead>\n",
       "    <tr style=\"text-align: right;\">\n",
       "      <th></th>\n",
       "      <th>shop_id</th>\n",
       "      <th>item_id</th>\n",
       "      <th>date_block_num</th>\n",
       "      <th>item_cnt_day</th>\n",
       "    </tr>\n",
       "  </thead>\n",
       "  <tbody>\n",
       "    <tr>\n",
       "      <th>8199</th>\n",
       "      <td>2</td>\n",
       "      <td>486</td>\n",
       "      <td>22</td>\n",
       "      <td>2.0</td>\n",
       "    </tr>\n",
       "    <tr>\n",
       "      <th>8213</th>\n",
       "      <td>2</td>\n",
       "      <td>491</td>\n",
       "      <td>22</td>\n",
       "      <td>1.0</td>\n",
       "    </tr>\n",
       "    <tr>\n",
       "      <th>8300</th>\n",
       "      <td>2</td>\n",
       "      <td>806</td>\n",
       "      <td>22</td>\n",
       "      <td>1.0</td>\n",
       "    </tr>\n",
       "    <tr>\n",
       "      <th>8346</th>\n",
       "      <td>2</td>\n",
       "      <td>949</td>\n",
       "      <td>22</td>\n",
       "      <td>1.0</td>\n",
       "    </tr>\n",
       "    <tr>\n",
       "      <th>8355</th>\n",
       "      <td>2</td>\n",
       "      <td>950</td>\n",
       "      <td>22</td>\n",
       "      <td>1.0</td>\n",
       "    </tr>\n",
       "  </tbody>\n",
       "</table>\n",
       "</div>"
      ],
      "text/plain": [
       "      shop_id  item_id  date_block_num  item_cnt_day\n",
       "8199        2      486              22           2.0\n",
       "8213        2      491              22           1.0\n",
       "8300        2      806              22           1.0\n",
       "8346        2      949              22           1.0\n",
       "8355        2      950              22           1.0"
      ]
     },
     "execution_count": 20,
     "metadata": {},
     "output_type": "execute_result"
    }
   ],
   "source": [
    "last_year_shop_item = monthly_sale_shop_item[monthly_sale_shop_item['date_block_num'] == 22]\n",
    "last_year_shop_item.head()"
   ]
  },
  {
   "cell_type": "code",
   "execution_count": 21,
   "metadata": {},
   "outputs": [
    {
     "name": "stdout",
     "output_type": "stream",
     "text": [
      "(214200, 5)\n"
     ]
    },
    {
     "data": {
      "text/html": [
       "<div>\n",
       "<style scoped>\n",
       "    .dataframe tbody tr th:only-of-type {\n",
       "        vertical-align: middle;\n",
       "    }\n",
       "\n",
       "    .dataframe tbody tr th {\n",
       "        vertical-align: top;\n",
       "    }\n",
       "\n",
       "    .dataframe thead th {\n",
       "        text-align: right;\n",
       "    }\n",
       "</style>\n",
       "<table border=\"1\" class=\"dataframe\">\n",
       "  <thead>\n",
       "    <tr style=\"text-align: right;\">\n",
       "      <th></th>\n",
       "      <th>ID</th>\n",
       "      <th>shop_id</th>\n",
       "      <th>item_id</th>\n",
       "      <th>item_category_id</th>\n",
       "      <th>item_cnt_day</th>\n",
       "    </tr>\n",
       "  </thead>\n",
       "  <tbody>\n",
       "    <tr>\n",
       "      <th>0</th>\n",
       "      <td>0</td>\n",
       "      <td>5</td>\n",
       "      <td>5037</td>\n",
       "      <td>19</td>\n",
       "      <td>NaN</td>\n",
       "    </tr>\n",
       "    <tr>\n",
       "      <th>1</th>\n",
       "      <td>5100</td>\n",
       "      <td>4</td>\n",
       "      <td>5037</td>\n",
       "      <td>19</td>\n",
       "      <td>NaN</td>\n",
       "    </tr>\n",
       "    <tr>\n",
       "      <th>2</th>\n",
       "      <td>10200</td>\n",
       "      <td>6</td>\n",
       "      <td>5037</td>\n",
       "      <td>19</td>\n",
       "      <td>1.0</td>\n",
       "    </tr>\n",
       "    <tr>\n",
       "      <th>3</th>\n",
       "      <td>15300</td>\n",
       "      <td>3</td>\n",
       "      <td>5037</td>\n",
       "      <td>19</td>\n",
       "      <td>NaN</td>\n",
       "    </tr>\n",
       "    <tr>\n",
       "      <th>4</th>\n",
       "      <td>20400</td>\n",
       "      <td>2</td>\n",
       "      <td>5037</td>\n",
       "      <td>19</td>\n",
       "      <td>NaN</td>\n",
       "    </tr>\n",
       "  </tbody>\n",
       "</table>\n",
       "</div>"
      ],
      "text/plain": [
       "      ID  shop_id  item_id  item_category_id  item_cnt_day\n",
       "0      0        5     5037                19           NaN\n",
       "1   5100        4     5037                19           NaN\n",
       "2  10200        6     5037                19           1.0\n",
       "3  15300        3     5037                19           NaN\n",
       "4  20400        2     5037                19           NaN"
      ]
     },
     "execution_count": 21,
     "metadata": {},
     "output_type": "execute_result"
    }
   ],
   "source": [
    "ttest = pd.merge(test, last_month_shop_item.drop('date_block_num', axis=1),on=['shop_id','item_id'], how='left')\n",
    "print(ttest.shape)\n",
    "ttest.head(5)"
   ]
  },
  {
   "cell_type": "code",
   "execution_count": 22,
   "metadata": {},
   "outputs": [
    {
     "name": "stdout",
     "output_type": "stream",
     "text": [
      "(214200, 6)\n"
     ]
    },
    {
     "data": {
      "text/html": [
       "<div>\n",
       "<style scoped>\n",
       "    .dataframe tbody tr th:only-of-type {\n",
       "        vertical-align: middle;\n",
       "    }\n",
       "\n",
       "    .dataframe tbody tr th {\n",
       "        vertical-align: top;\n",
       "    }\n",
       "\n",
       "    .dataframe thead th {\n",
       "        text-align: right;\n",
       "    }\n",
       "</style>\n",
       "<table border=\"1\" class=\"dataframe\">\n",
       "  <thead>\n",
       "    <tr style=\"text-align: right;\">\n",
       "      <th></th>\n",
       "      <th>ID</th>\n",
       "      <th>shop_id</th>\n",
       "      <th>item_id</th>\n",
       "      <th>item_category_id</th>\n",
       "      <th>item_cnt_day_33</th>\n",
       "      <th>item_cnt_day_22</th>\n",
       "    </tr>\n",
       "  </thead>\n",
       "  <tbody>\n",
       "    <tr>\n",
       "      <th>0</th>\n",
       "      <td>0</td>\n",
       "      <td>5</td>\n",
       "      <td>5037</td>\n",
       "      <td>19</td>\n",
       "      <td>NaN</td>\n",
       "      <td>1.0</td>\n",
       "    </tr>\n",
       "    <tr>\n",
       "      <th>1</th>\n",
       "      <td>5100</td>\n",
       "      <td>4</td>\n",
       "      <td>5037</td>\n",
       "      <td>19</td>\n",
       "      <td>NaN</td>\n",
       "      <td>NaN</td>\n",
       "    </tr>\n",
       "    <tr>\n",
       "      <th>2</th>\n",
       "      <td>10200</td>\n",
       "      <td>6</td>\n",
       "      <td>5037</td>\n",
       "      <td>19</td>\n",
       "      <td>1.0</td>\n",
       "      <td>4.0</td>\n",
       "    </tr>\n",
       "    <tr>\n",
       "      <th>3</th>\n",
       "      <td>15300</td>\n",
       "      <td>3</td>\n",
       "      <td>5037</td>\n",
       "      <td>19</td>\n",
       "      <td>NaN</td>\n",
       "      <td>2.0</td>\n",
       "    </tr>\n",
       "    <tr>\n",
       "      <th>4</th>\n",
       "      <td>20400</td>\n",
       "      <td>2</td>\n",
       "      <td>5037</td>\n",
       "      <td>19</td>\n",
       "      <td>NaN</td>\n",
       "      <td>NaN</td>\n",
       "    </tr>\n",
       "  </tbody>\n",
       "</table>\n",
       "</div>"
      ],
      "text/plain": [
       "      ID  shop_id  item_id  item_category_id  item_cnt_day_33  item_cnt_day_22\n",
       "0      0        5     5037                19              NaN              1.0\n",
       "1   5100        4     5037                19              NaN              NaN\n",
       "2  10200        6     5037                19              1.0              4.0\n",
       "3  15300        3     5037                19              NaN              2.0\n",
       "4  20400        2     5037                19              NaN              NaN"
      ]
     },
     "execution_count": 22,
     "metadata": {},
     "output_type": "execute_result"
    }
   ],
   "source": [
    "ttest = pd.merge(ttest, last_year_shop_item.drop('date_block_num', axis=1),on=['shop_id','item_id'], suffixes=('_33', '_22'), how='left') \n",
    "print(ttest.shape)\n",
    "ttest.head(5)"
   ]
  },
  {
   "cell_type": "code",
   "execution_count": 23,
   "metadata": {},
   "outputs": [
    {
     "data": {
      "text/plain": [
       "ID                       0\n",
       "shop_id                  0\n",
       "item_id                  0\n",
       "item_category_id         0\n",
       "item_cnt_day_33     185520\n",
       "item_cnt_day_22     191772\n",
       "dtype: int64"
      ]
     },
     "execution_count": 23,
     "metadata": {},
     "output_type": "execute_result"
    }
   ],
   "source": [
    "ttest.isnull().sum()"
   ]
  },
  {
   "cell_type": "code",
   "execution_count": 24,
   "metadata": {},
   "outputs": [
    {
     "name": "stdout",
     "output_type": "stream",
     "text": [
      "(1919, 4)\n"
     ]
    },
    {
     "data": {
      "text/html": [
       "<div>\n",
       "<style scoped>\n",
       "    .dataframe tbody tr th:only-of-type {\n",
       "        vertical-align: middle;\n",
       "    }\n",
       "\n",
       "    .dataframe tbody tr th {\n",
       "        vertical-align: top;\n",
       "    }\n",
       "\n",
       "    .dataframe thead th {\n",
       "        text-align: right;\n",
       "    }\n",
       "</style>\n",
       "<table border=\"1\" class=\"dataframe\">\n",
       "  <thead>\n",
       "    <tr style=\"text-align: right;\">\n",
       "      <th></th>\n",
       "      <th>shop_id</th>\n",
       "      <th>item_category_id</th>\n",
       "      <th>level_2</th>\n",
       "      <th>item_cnt_day_33</th>\n",
       "    </tr>\n",
       "  </thead>\n",
       "  <tbody>\n",
       "    <tr>\n",
       "      <th>0</th>\n",
       "      <td>2</td>\n",
       "      <td>3</td>\n",
       "      <td>0</td>\n",
       "      <td>1.0</td>\n",
       "    </tr>\n",
       "    <tr>\n",
       "      <th>1</th>\n",
       "      <td>2</td>\n",
       "      <td>6</td>\n",
       "      <td>0</td>\n",
       "      <td>1.0</td>\n",
       "    </tr>\n",
       "    <tr>\n",
       "      <th>2</th>\n",
       "      <td>2</td>\n",
       "      <td>6</td>\n",
       "      <td>1</td>\n",
       "      <td>3.0</td>\n",
       "    </tr>\n",
       "    <tr>\n",
       "      <th>3</th>\n",
       "      <td>2</td>\n",
       "      <td>6</td>\n",
       "      <td>2</td>\n",
       "      <td>4.0</td>\n",
       "    </tr>\n",
       "    <tr>\n",
       "      <th>4</th>\n",
       "      <td>2</td>\n",
       "      <td>7</td>\n",
       "      <td>0</td>\n",
       "      <td>1.0</td>\n",
       "    </tr>\n",
       "  </tbody>\n",
       "</table>\n",
       "</div>"
      ],
      "text/plain": [
       "   shop_id  item_category_id  level_2  item_cnt_day_33\n",
       "0        2                 3        0              1.0\n",
       "1        2                 6        0              1.0\n",
       "2        2                 6        1              3.0\n",
       "3        2                 6        2              4.0\n",
       "4        2                 7        0              1.0"
      ]
     },
     "execution_count": 24,
     "metadata": {},
     "output_type": "execute_result"
    }
   ],
   "source": [
    "cat_sale = ttest.groupby(['shop_id', 'item_category_id'])['item_cnt_day_33'].apply(lambda x: x.mode(dropna=True))\n",
    "cat_sale = cat_sale.reset_index()\n",
    "print(cat_sale.shape)\n",
    "cat_sale.head()"
   ]
  },
  {
   "cell_type": "code",
   "execution_count": 25,
   "metadata": {},
   "outputs": [
    {
     "data": {
      "text/html": [
       "<div>\n",
       "<style scoped>\n",
       "    .dataframe tbody tr th:only-of-type {\n",
       "        vertical-align: middle;\n",
       "    }\n",
       "\n",
       "    .dataframe tbody tr th {\n",
       "        vertical-align: top;\n",
       "    }\n",
       "\n",
       "    .dataframe thead th {\n",
       "        text-align: right;\n",
       "    }\n",
       "</style>\n",
       "<table border=\"1\" class=\"dataframe\">\n",
       "  <thead>\n",
       "    <tr style=\"text-align: right;\">\n",
       "      <th></th>\n",
       "      <th>shop_id</th>\n",
       "      <th>item_category_id</th>\n",
       "      <th>shop_cat_mode</th>\n",
       "      <th>item_cnt_day_33</th>\n",
       "    </tr>\n",
       "  </thead>\n",
       "  <tbody>\n",
       "    <tr>\n",
       "      <th>0</th>\n",
       "      <td>2</td>\n",
       "      <td>3</td>\n",
       "      <td>0</td>\n",
       "      <td>1.0</td>\n",
       "    </tr>\n",
       "    <tr>\n",
       "      <th>1</th>\n",
       "      <td>2</td>\n",
       "      <td>6</td>\n",
       "      <td>0</td>\n",
       "      <td>1.0</td>\n",
       "    </tr>\n",
       "    <tr>\n",
       "      <th>2</th>\n",
       "      <td>2</td>\n",
       "      <td>6</td>\n",
       "      <td>1</td>\n",
       "      <td>3.0</td>\n",
       "    </tr>\n",
       "    <tr>\n",
       "      <th>3</th>\n",
       "      <td>2</td>\n",
       "      <td>6</td>\n",
       "      <td>2</td>\n",
       "      <td>4.0</td>\n",
       "    </tr>\n",
       "    <tr>\n",
       "      <th>4</th>\n",
       "      <td>2</td>\n",
       "      <td>7</td>\n",
       "      <td>0</td>\n",
       "      <td>1.0</td>\n",
       "    </tr>\n",
       "  </tbody>\n",
       "</table>\n",
       "</div>"
      ],
      "text/plain": [
       "   shop_id  item_category_id  shop_cat_mode  item_cnt_day_33\n",
       "0        2                 3              0              1.0\n",
       "1        2                 6              0              1.0\n",
       "2        2                 6              1              3.0\n",
       "3        2                 6              2              4.0\n",
       "4        2                 7              0              1.0"
      ]
     },
     "execution_count": 25,
     "metadata": {},
     "output_type": "execute_result"
    }
   ],
   "source": [
    "cat_sale.rename(columns={'level_2':'shop_cat_mode'}, \n",
    "                 inplace=True)\n",
    "cat_sale.head()"
   ]
  },
  {
   "cell_type": "code",
   "execution_count": 26,
   "metadata": {},
   "outputs": [
    {
     "name": "stdout",
     "output_type": "stream",
     "text": [
      "(214200, 6)\n",
      "(217543, 7)\n"
     ]
    },
    {
     "data": {
      "text/html": [
       "<div>\n",
       "<style scoped>\n",
       "    .dataframe tbody tr th:only-of-type {\n",
       "        vertical-align: middle;\n",
       "    }\n",
       "\n",
       "    .dataframe tbody tr th {\n",
       "        vertical-align: top;\n",
       "    }\n",
       "\n",
       "    .dataframe thead th {\n",
       "        text-align: right;\n",
       "    }\n",
       "</style>\n",
       "<table border=\"1\" class=\"dataframe\">\n",
       "  <thead>\n",
       "    <tr style=\"text-align: right;\">\n",
       "      <th></th>\n",
       "      <th>ID</th>\n",
       "      <th>shop_id</th>\n",
       "      <th>item_id</th>\n",
       "      <th>item_category_id</th>\n",
       "      <th>item_cnt_day_33</th>\n",
       "      <th>item_cnt_day_22</th>\n",
       "      <th>shop_cat_mode</th>\n",
       "    </tr>\n",
       "  </thead>\n",
       "  <tbody>\n",
       "    <tr>\n",
       "      <th>0</th>\n",
       "      <td>0</td>\n",
       "      <td>5</td>\n",
       "      <td>5037</td>\n",
       "      <td>19</td>\n",
       "      <td>NaN</td>\n",
       "      <td>1.0</td>\n",
       "      <td>0.0</td>\n",
       "    </tr>\n",
       "    <tr>\n",
       "      <th>1</th>\n",
       "      <td>5100</td>\n",
       "      <td>4</td>\n",
       "      <td>5037</td>\n",
       "      <td>19</td>\n",
       "      <td>NaN</td>\n",
       "      <td>NaN</td>\n",
       "      <td>0.0</td>\n",
       "    </tr>\n",
       "    <tr>\n",
       "      <th>2</th>\n",
       "      <td>10200</td>\n",
       "      <td>6</td>\n",
       "      <td>5037</td>\n",
       "      <td>19</td>\n",
       "      <td>1.0</td>\n",
       "      <td>4.0</td>\n",
       "      <td>0.0</td>\n",
       "    </tr>\n",
       "    <tr>\n",
       "      <th>3</th>\n",
       "      <td>15300</td>\n",
       "      <td>3</td>\n",
       "      <td>5037</td>\n",
       "      <td>19</td>\n",
       "      <td>NaN</td>\n",
       "      <td>2.0</td>\n",
       "      <td>0.0</td>\n",
       "    </tr>\n",
       "    <tr>\n",
       "      <th>4</th>\n",
       "      <td>20400</td>\n",
       "      <td>2</td>\n",
       "      <td>5037</td>\n",
       "      <td>19</td>\n",
       "      <td>NaN</td>\n",
       "      <td>NaN</td>\n",
       "      <td>0.0</td>\n",
       "    </tr>\n",
       "  </tbody>\n",
       "</table>\n",
       "</div>"
      ],
      "text/plain": [
       "      ID  shop_id  item_id  item_category_id  item_cnt_day_33  \\\n",
       "0      0        5     5037                19              NaN   \n",
       "1   5100        4     5037                19              NaN   \n",
       "2  10200        6     5037                19              1.0   \n",
       "3  15300        3     5037                19              NaN   \n",
       "4  20400        2     5037                19              NaN   \n",
       "\n",
       "   item_cnt_day_22  shop_cat_mode  \n",
       "0              1.0            0.0  \n",
       "1              NaN            0.0  \n",
       "2              4.0            0.0  \n",
       "3              2.0            0.0  \n",
       "4              NaN            0.0  "
      ]
     },
     "execution_count": 26,
     "metadata": {},
     "output_type": "execute_result"
    }
   ],
   "source": [
    "print(ttest.shape)\n",
    "ttest = pd.merge(ttest, cat_sale.drop('item_cnt_day_33', axis=1),on=['shop_id','item_category_id'], how='left') \n",
    "print(ttest.shape)\n",
    "ttest.head(5)"
   ]
  },
  {
   "cell_type": "code",
   "execution_count": 27,
   "metadata": {},
   "outputs": [
    {
     "data": {
      "text/plain": [
       "ID                       0\n",
       "shop_id                  0\n",
       "item_id                  0\n",
       "item_category_id         0\n",
       "item_cnt_day_33     187941\n",
       "item_cnt_day_22     194333\n",
       "shop_cat_mode        35877\n",
       "dtype: int64"
      ]
     },
     "execution_count": 27,
     "metadata": {},
     "output_type": "execute_result"
    }
   ],
   "source": [
    "ttest.isnull().sum()"
   ]
  },
  {
   "cell_type": "code",
   "execution_count": 28,
   "metadata": {},
   "outputs": [
    {
     "data": {
      "text/plain": [
       "0.0    178323\n",
       "NaN     35877\n",
       "1.0      2992\n",
       "2.0       247\n",
       "3.0        72\n",
       "7.0         8\n",
       "5.0         8\n",
       "6.0         8\n",
       "4.0         8\n",
       "Name: shop_cat_mode, dtype: int64"
      ]
     },
     "execution_count": 28,
     "metadata": {},
     "output_type": "execute_result"
    }
   ],
   "source": [
    "ttest['shop_cat_mode'].value_counts(dropna=False)"
   ]
  },
  {
   "cell_type": "code",
   "execution_count": null,
   "metadata": {},
   "outputs": [],
   "source": []
  }
 ],
 "metadata": {
  "kernelspec": {
   "display_name": "Python 3",
   "language": "python",
   "name": "python3"
  },
  "language_info": {
   "codemirror_mode": {
    "name": "ipython",
    "version": 3
   },
   "file_extension": ".py",
   "mimetype": "text/x-python",
   "name": "python",
   "nbconvert_exporter": "python",
   "pygments_lexer": "ipython3",
   "version": "3.6.6"
  }
 },
 "nbformat": 4,
 "nbformat_minor": 1
}
